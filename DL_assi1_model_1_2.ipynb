{
 "cells": [
  {
   "cell_type": "code",
   "execution_count": 1,
   "id": "b5e07ec0",
   "metadata": {},
   "outputs": [],
   "source": [
    "import numpy as np\n",
    "import matplotlib.pyplot as plt\n",
    "import torch.nn as nn\n",
    "import torch.nn.functional as F\n",
    "from sklearn.model_selection import train_test_split\n",
    "from torch.utils.data import DataLoader\n",
    "import torch"
   ]
  },
  {
   "cell_type": "code",
   "execution_count": 2,
   "id": "6b82b108",
   "metadata": {},
   "outputs": [
    {
     "name": "stdout",
     "output_type": "stream",
     "text": [
      "(2000, 28, 28, 1)\n",
      "(2000, 1)\n"
     ]
    }
   ],
   "source": [
    "import h5py\n",
    "Lab1_MNIST = h5py.File('MNISTdata.hdf5','r') # Loading the h5py file\n",
    "data_in=np.array(Lab1_MNIST['input'])        #converting the file to numpy array (input data)\n",
    "data_out=np.array(Lab1_MNIST['output'])      #converting the file to numpy array (output data)\n",
    "print(data_in.shape)\n",
    "print(data_out.shape)"
   ]
  },
  {
   "cell_type": "code",
   "execution_count": 3,
   "id": "67d9d39c",
   "metadata": {},
   "outputs": [
    {
     "name": "stdout",
     "output_type": "stream",
     "text": [
      "(1400, 28, 28, 1)\n",
      "(600, 28, 28, 1)\n",
      "(1400, 1)\n",
      "(600, 1)\n"
     ]
    }
   ],
   "source": [
    "# splitting the data into 70 % and 30% testing\n",
    "train_X,test_X, train_y, test_y = train_test_split(data_in,data_out,test_size=0.3,random_state=21)\n",
    "print(train_X.shape)\n",
    "print(test_X.shape)\n",
    "print(train_y.shape)\n",
    "print(test_y.shape)"
   ]
  },
  {
   "cell_type": "code",
   "execution_count": 4,
   "id": "303b557f",
   "metadata": {},
   "outputs": [
    {
     "name": "stdout",
     "output_type": "stream",
     "text": [
      "(1400, 784)\n",
      "(600, 784)\n",
      "(1400,)\n",
      "(600,)\n"
     ]
    }
   ],
   "source": [
    "#reshaping the input data as (2000,784) and output data as column of 2000\n",
    "X_train=train_X.reshape(-1,784)\n",
    "X_test=test_X.reshape(-1,784)\n",
    "y_train=train_y.reshape(1400)\n",
    "y_test=test_y.reshape(600)\n",
    "print(X_train.shape)\n",
    "print(X_test.shape)\n",
    "print(y_train.shape)\n",
    "print(y_test.shape)"
   ]
  },
  {
   "cell_type": "code",
   "execution_count": 5,
   "id": "b71cbeae",
   "metadata": {},
   "outputs": [
    {
     "name": "stdout",
     "output_type": "stream",
     "text": [
      "torch.Size([1400, 784])\n",
      "torch.Size([600, 784])\n",
      "torch.Size([1400])\n",
      "torch.Size([600])\n"
     ]
    }
   ],
   "source": [
    "# coverting numpy array to tensor and datatype float(for input) and integer for output\n",
    "X_train=torch.FloatTensor(X_train)\n",
    "X_test=torch.FloatTensor(X_test)\n",
    "y_train=torch.LongTensor(y_train)\n",
    "y_test=torch.LongTensor(y_test)\n",
    "print(X_train.shape)\n",
    "print(X_test.shape)\n",
    "print(y_train.shape)\n",
    "print(y_test.shape)"
   ]
  },
  {
   "cell_type": "code",
   "execution_count": 6,
   "id": "9d02f380",
   "metadata": {},
   "outputs": [],
   "source": [
    "#zipping the input data X and labels y together for test data and train data separately\n",
    "train_data= list(zip(X_train,y_train))\n",
    "test_data = list(zip(X_test,y_test))"
   ]
  },
  {
   "cell_type": "code",
   "execution_count": 7,
   "id": "a56d11d3",
   "metadata": {},
   "outputs": [
    {
     "name": "stdout",
     "output_type": "stream",
     "text": [
      "Batch shape: torch.Size([64, 784])\n",
      "[tensor([[0., 0., 0.,  ..., 0., 0., 0.],\n",
      "        [0., 0., 0.,  ..., 0., 0., 0.],\n",
      "        [0., 0., 0.,  ..., 0., 0., 0.],\n",
      "        ...,\n",
      "        [0., 0., 0.,  ..., 0., 0., 0.],\n",
      "        [0., 0., 0.,  ..., 0., 0., 0.],\n",
      "        [0., 0., 0.,  ..., 0., 0., 0.]]), tensor([8, 2, 9, 5, 0, 5, 4, 4, 3, 4, 5, 9, 8, 7, 6, 4, 1, 1, 4, 9, 8, 4, 4, 8,\n",
      "        7, 8, 6, 8, 5, 2, 8, 1, 2, 1, 6, 1, 6, 9, 2, 9, 8, 6, 2, 7, 7, 9, 5, 4,\n",
      "        7, 0, 1, 4, 4, 0, 1, 4, 4, 0, 7, 9, 9, 3, 9, 3])]\n",
      "[tensor([[0., 0., 0.,  ..., 0., 0., 0.],\n",
      "        [0., 0., 0.,  ..., 0., 0., 0.],\n",
      "        [0., 0., 0.,  ..., 0., 0., 0.],\n",
      "        ...,\n",
      "        [0., 0., 0.,  ..., 0., 0., 0.],\n",
      "        [0., 0., 0.,  ..., 0., 0., 0.],\n",
      "        [0., 0., 0.,  ..., 0., 0., 0.]]), tensor([1, 9, 9, 5, 7, 3, 8, 7, 6, 2, 0, 6, 2, 9, 1, 6, 3, 5, 5, 0, 2, 6, 3, 6,\n",
      "        0, 1, 9, 1, 5, 3, 4, 4, 1, 1, 7, 5, 3, 9, 9, 0, 0, 4, 2, 2, 7, 3, 9, 3,\n",
      "        1, 2, 1, 4, 9, 7, 5, 5, 4, 6, 3, 5, 4, 4, 3, 4])]\n",
      "[tensor([[0., 0., 0.,  ..., 0., 0., 0.],\n",
      "        [0., 0., 0.,  ..., 0., 0., 0.],\n",
      "        [0., 0., 0.,  ..., 0., 0., 0.],\n",
      "        ...,\n",
      "        [0., 0., 0.,  ..., 0., 0., 0.],\n",
      "        [0., 0., 0.,  ..., 0., 0., 0.],\n",
      "        [0., 0., 0.,  ..., 0., 0., 0.]]), tensor([2, 2, 2, 8, 8, 4, 0, 2, 7, 5, 9, 4, 3, 0, 5, 5, 7, 6, 2, 4, 1, 9, 1, 8,\n",
      "        6, 8, 9, 2, 0, 4, 1, 1, 7, 6, 8, 2, 1, 5, 4, 7, 3, 5, 9, 1, 4, 0, 6, 4,\n",
      "        6, 8, 9, 5, 2, 7, 2, 8, 5, 2, 0, 9, 2, 1, 8, 7])]\n",
      "[tensor([[0., 0., 0.,  ..., 0., 0., 0.],\n",
      "        [0., 0., 0.,  ..., 0., 0., 0.],\n",
      "        [0., 0., 0.,  ..., 0., 0., 0.],\n",
      "        ...,\n",
      "        [0., 0., 0.,  ..., 0., 0., 0.],\n",
      "        [0., 0., 0.,  ..., 0., 0., 0.],\n",
      "        [0., 0., 0.,  ..., 0., 0., 0.]]), tensor([7, 1, 1, 7, 1, 3, 6, 8, 1, 7, 2, 0, 0, 5, 3, 0, 9, 2, 5, 2, 4, 7, 0, 2,\n",
      "        6, 6, 9, 7, 6, 8, 9, 5, 9, 8, 4, 8, 6, 4, 6, 8, 9, 6, 4, 5, 3, 1, 9, 8,\n",
      "        6, 5, 0, 3, 4, 9, 0, 0, 7, 7, 8, 1, 4, 2, 9, 0])]\n",
      "[tensor([[0., 0., 0.,  ..., 0., 0., 0.],\n",
      "        [0., 0., 0.,  ..., 0., 0., 0.],\n",
      "        [0., 0., 0.,  ..., 0., 0., 0.],\n",
      "        ...,\n",
      "        [0., 0., 0.,  ..., 0., 0., 0.],\n",
      "        [0., 0., 0.,  ..., 0., 0., 0.],\n",
      "        [0., 0., 0.,  ..., 0., 0., 0.]]), tensor([7, 7, 1, 0, 7, 1, 2, 2, 9, 8, 2, 4, 1, 1, 4, 4, 4, 3, 7, 1, 3, 2, 8, 7,\n",
      "        1, 9, 1, 4, 3, 0, 2, 9, 2, 7, 9, 5, 3, 7, 2, 3, 7, 3, 7, 5, 0, 2, 0, 3,\n",
      "        3, 3, 0, 0, 6, 3, 3, 9, 0, 4, 3, 5, 2, 7, 6, 3])]\n",
      "[tensor([[0., 0., 0.,  ..., 0., 0., 0.],\n",
      "        [0., 0., 0.,  ..., 0., 0., 0.],\n",
      "        [0., 0., 0.,  ..., 0., 0., 0.],\n",
      "        ...,\n",
      "        [0., 0., 0.,  ..., 0., 0., 0.],\n",
      "        [0., 0., 0.,  ..., 0., 0., 0.],\n",
      "        [0., 0., 0.,  ..., 0., 0., 0.]]), tensor([9, 2, 9, 8, 7, 2, 6, 0, 7, 0, 1, 7, 9, 3, 4, 2, 9, 7, 5, 8, 9, 3, 7, 4,\n",
      "        7, 8, 8, 4, 9, 9, 5, 1, 7, 8, 0, 7, 5, 8, 2, 0, 3, 8, 5, 9, 0, 0, 7, 9,\n",
      "        9, 1, 3, 5, 4, 9, 7, 8, 0, 7, 2, 8, 6, 5, 2, 7])]\n",
      "[tensor([[0., 0., 0.,  ..., 0., 0., 0.],\n",
      "        [0., 0., 0.,  ..., 0., 0., 0.],\n",
      "        [0., 0., 0.,  ..., 0., 0., 0.],\n",
      "        ...,\n",
      "        [0., 0., 0.,  ..., 0., 0., 0.],\n",
      "        [0., 0., 0.,  ..., 0., 0., 0.],\n",
      "        [0., 0., 0.,  ..., 0., 0., 0.]]), tensor([9, 6, 8, 0, 5, 0, 9, 4, 8, 6, 8, 0, 7, 9, 8, 1, 5, 3, 1, 2, 3, 5, 0, 7,\n",
      "        3, 7, 5, 7, 2, 1, 5, 7, 7, 7, 8, 3, 4, 5, 4, 6, 3, 8, 8, 4, 1, 1, 3, 0,\n",
      "        2, 9, 2, 8, 1, 4, 3, 9, 9, 6, 2, 3, 1, 3, 3, 1])]\n",
      "[tensor([[0., 0., 0.,  ..., 0., 0., 0.],\n",
      "        [0., 0., 0.,  ..., 0., 0., 0.],\n",
      "        [0., 0., 0.,  ..., 0., 0., 0.],\n",
      "        ...,\n",
      "        [0., 0., 0.,  ..., 0., 0., 0.],\n",
      "        [0., 0., 0.,  ..., 0., 0., 0.],\n",
      "        [0., 0., 0.,  ..., 0., 0., 0.]]), tensor([9, 2, 3, 8, 0, 3, 9, 6, 7, 9, 3, 1, 5, 0, 3, 8, 0, 1, 4, 1, 5, 8, 7, 9,\n",
      "        3, 5, 4, 7, 2, 7, 4, 9, 7, 1, 7, 7, 1, 9, 9, 8, 2, 1, 4, 5, 1, 5, 0, 6,\n",
      "        6, 5, 3, 5, 8, 5, 8, 0, 1, 5, 8, 4, 0, 0, 1, 4])]\n",
      "[tensor([[0., 0., 0.,  ..., 0., 0., 0.],\n",
      "        [0., 0., 0.,  ..., 0., 0., 0.],\n",
      "        [0., 0., 0.,  ..., 0., 0., 0.],\n",
      "        ...,\n",
      "        [0., 0., 0.,  ..., 0., 0., 0.],\n",
      "        [0., 0., 0.,  ..., 0., 0., 0.],\n",
      "        [0., 0., 0.,  ..., 0., 0., 0.]]), tensor([4, 9, 6, 2, 5, 0, 4, 0, 5, 6, 2, 4, 7, 2, 8, 6, 0, 9, 6, 9, 1, 9, 2, 2,\n",
      "        6, 9, 8, 4, 4, 1, 1, 9, 7, 9, 4, 0, 4, 9, 0, 6, 9, 8, 9, 0, 7, 7, 6, 8,\n",
      "        5, 6, 9, 4, 8, 8, 6, 7, 1, 0, 7, 6, 1, 0, 9, 4])]\n",
      "[tensor([[0., 0., 0.,  ..., 0., 0., 0.],\n",
      "        [0., 0., 0.,  ..., 0., 0., 0.],\n",
      "        [0., 0., 0.,  ..., 0., 0., 0.],\n",
      "        ...,\n",
      "        [0., 0., 0.,  ..., 0., 0., 0.],\n",
      "        [0., 0., 0.,  ..., 0., 0., 0.],\n",
      "        [0., 0., 0.,  ..., 0., 0., 0.]]), tensor([4, 1, 6, 9, 6, 2, 9, 2, 1, 1, 9, 1, 1, 5, 2, 6, 0, 8, 4, 5, 8, 5, 6, 3,\n",
      "        7, 7, 5, 4, 1, 7, 0, 4, 5, 4, 6, 2, 2, 0, 1, 3, 6, 7, 6, 4, 9, 1, 8, 2,\n",
      "        8, 5, 1, 7, 2, 7, 3, 1, 8, 3, 6, 0, 1, 7, 6, 4])]\n",
      "[tensor([[0., 0., 0.,  ..., 0., 0., 0.],\n",
      "        [0., 0., 0.,  ..., 0., 0., 0.],\n",
      "        [0., 0., 0.,  ..., 0., 0., 0.],\n",
      "        ...,\n",
      "        [0., 0., 0.,  ..., 0., 0., 0.],\n",
      "        [0., 0., 0.,  ..., 0., 0., 0.],\n",
      "        [0., 0., 0.,  ..., 0., 0., 0.]]), tensor([5, 3, 6, 1, 0, 3, 8, 3, 6, 8, 2, 3, 4, 1, 2, 7, 4, 5, 6, 6, 9, 2, 6, 9,\n",
      "        5, 1, 6, 6, 2, 5, 9, 5, 0, 4, 7, 2, 7, 9, 8, 8, 8, 9, 9, 1, 7, 5, 5, 6,\n",
      "        5, 9, 4, 0, 7, 0, 7, 7, 2, 7, 4, 7, 0, 0, 9, 3])]\n",
      "[tensor([[0., 0., 0.,  ..., 0., 0., 0.],\n",
      "        [0., 0., 0.,  ..., 0., 0., 0.],\n",
      "        [0., 0., 0.,  ..., 0., 0., 0.],\n",
      "        ...,\n",
      "        [0., 0., 0.,  ..., 0., 0., 0.],\n",
      "        [0., 0., 0.,  ..., 0., 0., 0.],\n",
      "        [0., 0., 0.,  ..., 0., 0., 0.]]), tensor([4, 0, 5, 7, 7, 8, 1, 7, 2, 2, 9, 6, 1, 2, 6, 1, 7, 0, 6, 0, 1, 1, 8, 0,\n",
      "        3, 6, 2, 5, 6, 6, 6, 2, 4, 2, 6, 3, 2, 7, 9, 8, 4, 4, 3, 4, 0, 8, 9, 7,\n",
      "        8, 5, 1, 2, 4, 2, 8, 7, 1, 7, 1, 2, 8, 3, 0, 1])]\n",
      "[tensor([[0., 0., 0.,  ..., 0., 0., 0.],\n",
      "        [0., 0., 0.,  ..., 0., 0., 0.],\n",
      "        [0., 0., 0.,  ..., 0., 0., 0.],\n",
      "        ...,\n",
      "        [0., 0., 0.,  ..., 0., 0., 0.],\n",
      "        [0., 0., 0.,  ..., 0., 0., 0.],\n",
      "        [0., 0., 0.,  ..., 0., 0., 0.]]), tensor([9, 2, 8, 1, 7, 0, 5, 2, 0, 2, 3, 4, 3, 0, 7, 9, 6, 4, 0, 5, 9, 4, 1, 4,\n",
      "        1, 8, 1, 7, 7, 9, 0, 6, 6, 7, 7, 1, 6, 6, 6, 8, 7, 4, 1, 6, 2, 1, 2, 6,\n",
      "        1, 2, 3, 6, 1, 9, 0, 1, 5, 4, 5, 3, 9, 7, 8, 8])]\n",
      "[tensor([[0., 0., 0.,  ..., 0., 0., 0.],\n",
      "        [0., 0., 0.,  ..., 0., 0., 0.],\n",
      "        [0., 0., 0.,  ..., 0., 0., 0.],\n",
      "        ...,\n",
      "        [0., 0., 0.,  ..., 0., 0., 0.],\n",
      "        [0., 0., 0.,  ..., 0., 0., 0.],\n",
      "        [0., 0., 0.,  ..., 0., 0., 0.]]), tensor([4, 5, 2, 3, 6, 3, 6, 9, 2, 9, 2, 7, 2, 5, 4, 9, 4, 5, 3, 7, 7, 3, 4, 3,\n",
      "        0, 0, 5, 1, 9, 6, 9, 3, 7, 7, 4, 1, 6, 5, 9, 4, 7, 9, 7, 9, 3, 4, 9, 8,\n",
      "        5, 9, 1, 9, 7, 7, 2, 3, 2, 4, 6, 5, 1, 9, 7, 8])]\n",
      "[tensor([[0., 0., 0.,  ..., 0., 0., 0.],\n",
      "        [0., 0., 0.,  ..., 0., 0., 0.],\n",
      "        [0., 0., 0.,  ..., 0., 0., 0.],\n",
      "        ...,\n",
      "        [0., 0., 0.,  ..., 0., 0., 0.],\n",
      "        [0., 0., 0.,  ..., 0., 0., 0.],\n",
      "        [0., 0., 0.,  ..., 0., 0., 0.]]), tensor([1, 2, 9, 1, 0, 5, 3, 5, 4, 9, 4, 7, 5, 7, 1, 8, 3, 5, 5, 6, 5, 2, 7, 8,\n",
      "        6, 8, 8, 0, 0, 7, 0, 9, 5, 9, 7, 1, 7, 7, 1, 6, 7, 2, 0, 7, 7, 2, 6, 9,\n",
      "        7, 4, 9, 6, 6, 1, 6, 4, 7, 2, 7, 5, 4, 0, 3, 4])]\n",
      "[tensor([[0., 0., 0.,  ..., 0., 0., 0.],\n",
      "        [0., 0., 0.,  ..., 0., 0., 0.],\n",
      "        [0., 0., 0.,  ..., 0., 0., 0.],\n",
      "        ...,\n",
      "        [0., 0., 0.,  ..., 0., 0., 0.],\n",
      "        [0., 0., 0.,  ..., 0., 0., 0.],\n",
      "        [0., 0., 0.,  ..., 0., 0., 0.]]), tensor([4, 9, 2, 3, 8, 6, 6, 5, 7, 6, 0, 1, 7, 9, 2, 0, 6, 8, 1, 3, 0, 4, 2, 3,\n",
      "        2, 2, 3, 0, 9, 6, 1, 4, 6, 1, 1, 9, 8, 5, 3, 2, 3, 2, 2, 2, 5, 4, 2, 4,\n",
      "        0, 3, 6, 9, 5, 2, 0, 1, 8, 5, 4, 6, 7, 6, 7, 1])]\n",
      "[tensor([[0., 0., 0.,  ..., 0., 0., 0.],\n",
      "        [0., 0., 0.,  ..., 0., 0., 0.],\n",
      "        [0., 0., 0.,  ..., 0., 0., 0.],\n",
      "        ...,\n",
      "        [0., 0., 0.,  ..., 0., 0., 0.],\n",
      "        [0., 0., 0.,  ..., 0., 0., 0.],\n",
      "        [0., 0., 0.,  ..., 0., 0., 0.]]), tensor([7, 0, 7, 2, 3, 8, 6, 4, 6, 6, 4, 7, 8, 9, 7, 8, 2, 6, 7, 2, 6, 1, 3, 3,\n",
      "        6, 1, 7, 8, 3, 4, 2, 1, 9, 1, 1, 7, 4, 6, 4, 9, 3, 6, 6, 4, 7, 4, 9, 4,\n",
      "        1, 2, 4, 4, 2, 2, 9, 2, 3, 1, 0, 1, 4, 5, 0, 0])]\n",
      "[tensor([[0., 0., 0.,  ..., 0., 0., 0.],\n",
      "        [0., 0., 0.,  ..., 0., 0., 0.],\n",
      "        [0., 0., 0.,  ..., 0., 0., 0.],\n",
      "        ...,\n",
      "        [0., 0., 0.,  ..., 0., 0., 0.],\n",
      "        [0., 0., 0.,  ..., 0., 0., 0.],\n",
      "        [0., 0., 0.,  ..., 0., 0., 0.]]), tensor([2, 8, 3, 7, 0, 3, 9, 9, 7, 6, 6, 6, 6, 0, 9, 1, 8, 5, 0, 1, 2, 1, 4, 5,\n",
      "        2, 5, 2, 9, 4, 7, 3, 0, 1, 8, 6, 4, 4, 3, 0, 6, 7, 8, 0, 8, 3, 1, 2, 8,\n",
      "        7, 0, 3, 9, 7, 6, 5, 2, 3, 5, 6, 9, 9, 4, 8, 4])]\n",
      "[tensor([[0., 0., 0.,  ..., 0., 0., 0.],\n",
      "        [0., 0., 0.,  ..., 0., 0., 0.],\n",
      "        [0., 0., 0.,  ..., 0., 0., 0.],\n",
      "        ...,\n",
      "        [0., 0., 0.,  ..., 0., 0., 0.],\n",
      "        [0., 0., 0.,  ..., 0., 0., 0.],\n",
      "        [0., 0., 0.,  ..., 0., 0., 0.]]), tensor([6, 5, 8, 8, 8, 8, 2, 1, 6, 9, 1, 6, 5, 5, 2, 6, 6, 0, 9, 6, 6, 5, 7, 8,\n",
      "        3, 7, 2, 4, 1, 0, 2, 4, 5, 0, 7, 1, 4, 4, 8, 7, 7, 3, 2, 8, 6, 9, 6, 8,\n",
      "        6, 4, 1, 4, 1, 4, 2, 7, 2, 6, 1, 2, 4, 1, 1, 6])]\n",
      "[tensor([[0., 0., 0.,  ..., 0., 0., 0.],\n",
      "        [0., 0., 0.,  ..., 0., 0., 0.],\n",
      "        [0., 0., 0.,  ..., 0., 0., 0.],\n",
      "        ...,\n",
      "        [0., 0., 0.,  ..., 0., 0., 0.],\n",
      "        [0., 0., 0.,  ..., 0., 0., 0.],\n",
      "        [0., 0., 0.,  ..., 0., 0., 0.]]), tensor([9, 9, 8, 9, 8, 0, 5, 3, 9, 0, 7, 1, 9, 6, 3, 8, 5, 2, 7, 5, 3, 0, 3, 0,\n",
      "        4, 9, 2, 0, 0, 1, 6, 2, 3, 2, 3, 4, 9, 3, 8, 2, 6, 5, 8, 0, 7, 4, 6, 7,\n",
      "        4, 3, 4, 3, 5, 9, 1, 6, 8, 3, 0, 0, 7, 3, 5, 1])]\n",
      "[tensor([[0., 0., 0.,  ..., 0., 0., 0.],\n",
      "        [0., 0., 0.,  ..., 0., 0., 0.],\n",
      "        [0., 0., 0.,  ..., 0., 0., 0.],\n",
      "        ...,\n",
      "        [0., 0., 0.,  ..., 0., 0., 0.],\n",
      "        [0., 0., 0.,  ..., 0., 0., 0.],\n",
      "        [0., 0., 0.,  ..., 0., 0., 0.]]), tensor([9, 5, 1, 6, 3, 3, 6, 4, 5, 3, 3, 9, 1, 7, 9, 5, 4, 7, 9, 0, 8, 6, 1, 9,\n",
      "        9, 5, 9, 3, 1, 7, 4, 8, 0, 9, 0, 6, 6, 7, 6, 6, 1, 2, 7, 0, 3, 9, 9, 9,\n",
      "        5, 6, 6, 4, 0, 4, 7, 8, 7, 0, 9, 4, 1, 2, 9, 7])]\n",
      "[tensor([[0., 0., 0.,  ..., 0., 0., 0.],\n",
      "        [0., 0., 0.,  ..., 0., 0., 0.],\n",
      "        [0., 0., 0.,  ..., 0., 0., 0.],\n",
      "        ...,\n",
      "        [0., 0., 0.,  ..., 0., 0., 0.],\n",
      "        [0., 0., 0.,  ..., 0., 0., 0.],\n",
      "        [0., 0., 0.,  ..., 0., 0., 0.]]), tensor([4, 3, 6, 9, 2, 5, 9, 0, 0, 5, 5, 5, 0, 7, 5, 0, 3, 7, 2, 0, 6, 6, 0, 3,\n",
      "        2, 1, 6, 8, 9, 2, 3, 4, 0, 0, 2, 4, 2, 0, 7, 0, 7, 2, 5, 1, 8, 9, 1, 7,\n",
      "        6, 9, 2, 1, 9, 6, 8, 9])]\n"
     ]
    }
   ],
   "source": [
    "# Loading data in batches of 64 size and checking it using for loop\n",
    "\n",
    "trainloader = DataLoader(train_data, batch_size=64, shuffle=True)\n",
    "testloader = DataLoader(test_data,batch_size=64, shuffle=False)\n",
    "for images, labels in trainloader:\n",
    "    print('Batch shape:', images.size())\n",
    "    break\n",
    "for i in trainloader:\n",
    "    print(i)"
   ]
  },
  {
   "cell_type": "code",
   "execution_count": 8,
   "id": "590150ae",
   "metadata": {},
   "outputs": [
    {
     "data": {
      "text/plain": [
       "Model_1(\n",
       "  (fc1): Linear(in_features=784, out_features=50, bias=True)\n",
       "  (out): Linear(in_features=50, out_features=10, bias=True)\n",
       ")"
      ]
     },
     "execution_count": 8,
     "metadata": {},
     "output_type": "execute_result"
    }
   ],
   "source": [
    "# Creating a model class\n",
    "class Model_1(nn.Module):\n",
    "    def __init__(self,in_features=784,h1 = 50, out_features=10):\n",
    "        super().__init__()\n",
    "        self.fc1 = nn.Linear(in_features,h1)  # input layer to hidden layer\n",
    "        self.out = nn.Linear(h1,out_features) # hidden layer to output layer \n",
    "    def forward(self,x):\n",
    "        x = torch.sigmoid(self.fc1(x))\n",
    "        x = self.out(x)\n",
    "        return F.log_softmax(x,dim=1)\n",
    "torch.manual_seed(4)\n",
    "model_1 = Model_1()\n",
    "model_1"
   ]
  },
  {
   "cell_type": "code",
   "execution_count": 9,
   "id": "33639c4f",
   "metadata": {},
   "outputs": [
    {
     "name": "stdout",
     "output_type": "stream",
     "text": [
      "39200\n",
      "50\n",
      "500\n",
      "10\n"
     ]
    }
   ],
   "source": [
    "# Showing number of parameters\n",
    "for item in model_1.parameters():\n",
    "    print(item.numel())"
   ]
  },
  {
   "cell_type": "code",
   "execution_count": 10,
   "id": "6189d679",
   "metadata": {},
   "outputs": [],
   "source": [
    "# Setting up loss function and optimizer function\n",
    "loss = nn.CrossEntropyLoss()\n",
    "optimizer = torch.optim.Adam(model_1.parameters(),lr=1e-3,weight_decay=1e-4)"
   ]
  },
  {
   "cell_type": "code",
   "execution_count": 11,
   "id": "bbdf34dc",
   "metadata": {},
   "outputs": [
    {
     "name": "stdout",
     "output_type": "stream",
     "text": [
      " epoch: 1     train_loss: 1.970616102218628\n",
      " epoch: 1     test_loss: 1.8217889070510864\n",
      " epoch: 11     train_loss: 0.6098158955574036\n",
      " epoch: 11     test_loss: 0.6895685195922852\n",
      " epoch: 21     train_loss: 0.20342156291007996\n",
      " epoch: 21     test_loss: 0.428393691778183\n",
      " epoch: 31     train_loss: 0.3312320113182068\n",
      " epoch: 31     test_loss: 0.3382931053638458\n",
      " epoch: 41     train_loss: 0.21190182864665985\n",
      " epoch: 41     test_loss: 0.274639755487442\n",
      " epoch: 51     train_loss: 0.14447644352912903\n",
      " epoch: 51     test_loss: 0.37691032886505127\n",
      " epoch: 61     train_loss: 0.25813618302345276\n",
      " epoch: 61     test_loss: 0.22140301764011383\n",
      " epoch: 71     train_loss: 0.1811547428369522\n",
      " epoch: 71     test_loss: 0.2476498931646347\n",
      " epoch: 81     train_loss: 0.12401890754699707\n",
      " epoch: 81     test_loss: 0.21488362550735474\n",
      " epoch: 91     train_loss: 0.08926491439342499\n",
      " epoch: 91     test_loss: 0.31279394030570984\n",
      "total time: 13.471290349960327\n"
     ]
    }
   ],
   "source": [
    "# Training the model with 100 epochs\n",
    "import time\n",
    "start_time = time.time()\n",
    "epoch=100\n",
    "trn_loss1=[]\n",
    "tst_loss1=[]\n",
    "tst_corr = []\n",
    "trn_corr = []\n",
    "for i in range(epoch):\n",
    "    num_tst_corr = 0\n",
    "    num_trn_corr = 0\n",
    "    for b,(X_tr,y_tr) in enumerate(trainloader):\n",
    "        b+=1\n",
    "        y_predicted = model_1(X_tr)\n",
    "        trnl_1=loss(y_predicted,y_tr)\n",
    "        \n",
    "        predicted = torch.max(y_predicted.data, 1)[1]    # this calculates the index of maximum value in one hot vector\n",
    "        batch_corr = (predicted == y_tr).sum()   # this compares target value with model prediction\n",
    "        num_trn_corr += batch_corr                  # summing up number of correct predictions by the model\n",
    "        \n",
    "        optimizer.zero_grad()\n",
    "        trnl_1.backward()\n",
    "        optimizer.step()\n",
    "    \n",
    "    trn_loss1.append(trnl_1.item())    \n",
    "    if i%10==0:\n",
    "        print(f' epoch: {i+1}     train_loss: {trnl_1.item()}')\n",
    "    \n",
    "    trn_corr.append(num_trn_corr)\n",
    "    \n",
    "    # Cecking the model for the test data (this part is not the par tof backward computation so without gradient)\n",
    "    with torch.no_grad():\n",
    "        for c,(X_tst,y_tst) in enumerate(testloader):\n",
    "            c+=1\n",
    "            y_val = model_1(X_tst)\n",
    "            tstl_1=loss(y_val,y_tst)\n",
    "            \n",
    "            pred = torch.max(y_val.data, 1)[1]\n",
    "            batch_corr_test = (pred == y_tst).sum()\n",
    "            num_tst_corr += batch_corr_test\n",
    "            \n",
    "        tst_loss1.append(tstl_1.item())\n",
    "        if i%10==0:\n",
    "            print(f' epoch: {i+1}     test_loss: {tstl_1.item()}')\n",
    "    tst_corr.append(num_tst_corr)\n",
    "    \n",
    "end_time = time.time()\n",
    "total_time = end_time - start_time\n",
    "print(f'total time: {total_time}')"
   ]
  },
  {
   "cell_type": "code",
   "execution_count": 12,
   "id": "4258586b",
   "metadata": {},
   "outputs": [
    {
     "data": {
      "text/plain": [
       "Text(0.5, 1.0, 'EPochs vs Loss')"
      ]
     },
     "execution_count": 12,
     "metadata": {},
     "output_type": "execute_result"
    },
    {
     "data": {
      "image/png": "[encoded data removed]",
      "text/plain": [
       "<Figure size 432x288 with 1 Axes>"
      ]
     },
     "metadata": {
      "needs_background": "light"
     },
     "output_type": "display_data"
    }
   ],
   "source": [
    "# PLotting the training loss vs epochs\n",
    "plt.plot(range(epoch),trn_loss1)\n",
    "plt.xlabel('epochs')\n",
    "plt.ylabel('loss')\n",
    "plt.title(\"EPochs vs Loss\")"
   ]
  },
  {
   "cell_type": "code",
   "execution_count": 13,
   "id": "953f3efe",
   "metadata": {},
   "outputs": [
    {
     "data": {
      "text/plain": [
       "Text(0.5, 1.0, 'EPochs vs Loss')"
      ]
     },
     "execution_count": 13,
     "metadata": {},
     "output_type": "execute_result"
    },
    {
     "data": {
      "image/png": "[encoded data removed]",
      "text/plain": [
       "<Figure size 432x288 with 1 Axes>"
      ]
     },
     "metadata": {
      "needs_background": "light"
     },
     "output_type": "display_data"
    }
   ],
   "source": [
    "# Plotting the test loss vs epochs\n",
    "plt.plot(range(epoch),tst_loss1)\n",
    "plt.xlabel('epochs')\n",
    "plt.ylabel('loss')\n",
    "plt.title(\"EPochs vs Loss\")"
   ]
  },
  {
   "cell_type": "code",
   "execution_count": 14,
   "id": "26155483",
   "metadata": {},
   "outputs": [
    {
     "data": {
      "text/plain": [
       "<matplotlib.legend.Legend at 0x1cc93365588>"
      ]
     },
     "execution_count": 14,
     "metadata": {},
     "output_type": "execute_result"
    },
    {
     "data": {
      "image/png": "[encoded data removed]",
      "text/plain": [
       "<Figure size 432x288 with 1 Axes>"
      ]
     },
     "metadata": {
      "needs_background": "light"
     },
     "output_type": "display_data"
    }
   ],
   "source": [
    "# Comparing the training loss and test loss\n",
    "plt.plot(range(epoch),trn_loss1,label='train_loss')\n",
    "plt.plot(range(epoch),tst_loss1,label='test_loss')\n",
    "plt.xlabel('epochs')\n",
    "plt.ylabel('loss')\n",
    "plt.title(\"EPochs vs Loss\")\n",
    "plt.legend()"
   ]
  },
  {
   "cell_type": "code",
   "execution_count": 15,
   "id": "2057dfe4",
   "metadata": {},
   "outputs": [
    {
     "name": "stdout",
     "output_type": "stream",
     "text": [
      "[41.57, 65.29, 74.71, 76.36, 81.0, 83.79, 86.0, 87.14, 88.36, 89.64, 90.21, 91.14, 90.07, 91.29, 91.21, 91.93, 92.71, 93.0, 92.79, 93.21, 92.93, 93.71, 94.57, 94.0, 93.79, 94.79, 94.36, 94.86, 95.43, 94.5, 94.43, 95.21, 95.14, 95.29, 95.43, 95.0, 95.5, 96.07, 96.07, 96.0, 96.36, 96.29, 96.5, 96.57, 96.71, 96.29, 96.43, 96.36, 97.0, 97.0, 97.14, 96.64, 96.79, 97.5, 96.86, 96.79, 96.86, 96.79, 97.0, 97.07, 96.93, 96.93, 97.5, 97.86, 97.57, 97.71, 97.71, 97.36, 97.5, 97.43, 97.36, 97.21, 97.36, 97.07, 97.43, 97.93, 97.79, 97.57, 97.79, 97.29, 97.79, 97.64, 98.21, 97.93, 97.93, 97.71, 98.21, 97.64, 97.64, 97.79, 97.86, 97.71, 97.86, 98.29, 97.86, 98.0, 98.14, 97.86, 98.07, 97.71]\n"
     ]
    }
   ],
   "source": [
    "# Accuracy of 1400 training data over each epoch in percentage\n",
    "l_trn_accurate=[]\n",
    "for i in trn_corr:\n",
    "    l_trn_accurate.append(float(f'{i.item()/14:.2f}'))\n",
    "print(l_trn_accurate)"
   ]
  },
  {
   "cell_type": "code",
   "execution_count": 16,
   "id": "f8dfcf98",
   "metadata": {},
   "outputs": [
    {
     "name": "stdout",
     "output_type": "stream",
     "text": [
      "[53.5, 68.5, 71.5, 77.33, 81.67, 82.33, 81.83, 82.17, 82.83, 83.17, 85.67, 87.33, 86.33, 84.5, 85.17, 85.67, 86.17, 85.5, 87.5, 86.5, 89.0, 86.5, 86.5, 85.0, 87.5, 87.67, 87.17, 87.67, 87.0, 88.33, 88.33, 86.83, 87.33, 87.67, 87.83, 87.17, 87.67, 88.67, 88.83, 89.5, 88.5, 87.67, 88.33, 88.67, 88.0, 88.17, 87.0, 87.17, 88.17, 88.17, 88.0, 88.17, 87.67, 88.17, 88.33, 88.0, 88.5, 88.83, 88.33, 88.67, 88.17, 88.67, 88.0, 88.67, 87.67, 89.0, 88.33, 88.5, 88.83, 88.0, 88.17, 88.83, 87.17, 87.67, 88.67, 87.17, 87.67, 88.33, 88.0, 87.67, 89.5, 87.5, 87.67, 88.17, 88.17, 88.17, 88.0, 88.33, 88.83, 86.17, 87.67, 87.83, 87.0, 87.67, 87.67, 87.5, 88.5, 88.17, 88.17, 88.33]\n"
     ]
    }
   ],
   "source": [
    "# Number of correct predictions out of 600 test data over each epoch\n",
    "l_tst_accurate=[]\n",
    "for i in tst_corr:\n",
    "    l_tst_accurate.append(float(f'{i.item()/6:.2f}'))\n",
    "print(l_tst_accurate)"
   ]
  },
  {
   "cell_type": "code",
   "execution_count": 17,
   "id": "bad041fe",
   "metadata": {},
   "outputs": [
    {
     "data": {
      "text/plain": [
       "<matplotlib.legend.Legend at 0x1cc933d8748>"
      ]
     },
     "execution_count": 17,
     "metadata": {},
     "output_type": "execute_result"
    },
    {
     "data": {
      "image/png": "[encoded data removed]",
      "text/plain": [
       "<Figure size 432x288 with 1 Axes>"
      ]
     },
     "metadata": {
      "needs_background": "light"
     },
     "output_type": "display_data"
    }
   ],
   "source": [
    "# Comparing the training accuracy and test accuracy\n",
    "plt.plot(range(epoch),(l_trn_accurate),label='training accuracy')\n",
    "plt.plot(range(epoch),(l_tst_accurate),label='test accuracy')\n",
    "plt.xlabel('epochs')\n",
    "plt.ylabel('Accuracy')\n",
    "plt.title(\"EPochs vs Accuracy\")\n",
    "plt.legend()"
   ]
  },
  {
   "cell_type": "code",
   "execution_count": 19,
   "id": "38385238",
   "metadata": {},
   "outputs": [
    {
     "name": "stdout",
     "output_type": "stream",
     "text": [
      "1.) Predicted value: 4    Actual label:4     Correct prediction\n",
      "2.) Predicted value: 1    Actual label:1     Correct prediction\n",
      "3.) Predicted value: 3    Actual label:3     Correct prediction\n",
      "4.) Predicted value: 4    Actual label:4     Correct prediction\n",
      "5.) Predicted value: 6    Actual label:6     Correct prediction\n"
     ]
    }
   ],
   "source": [
    "for i,j in enumerate(range(5)):\n",
    "    model_1.eval()\n",
    "    with torch.no_grad():\n",
    "        new_pred = model_1(test_data[i][0].view(-1,784)).argmax()\n",
    "        if new_pred != test_data[i][1]:\n",
    "            print(f\"{i+1}.) Predicted value: {new_pred.item()}    Actual label:{test_data[i][1]}     Incorrect prediction\")\n",
    "        else:\n",
    "            print(f\"{i+1}.) Predicted value: {new_pred.item()}    Actual label:{test_data[i][1]}     Correct prediction\")"
   ]
  },
  {
   "cell_type": "code",
   "execution_count": null,
   "id": "ece73ca1",
   "metadata": {},
   "outputs": [],
   "source": []
  }
 ],
 "metadata": {
  "kernelspec": {
   "display_name": "Python 3 (ipykernel)",
   "language": "python",
   "name": "python3"
  },
  "language_info": {
   "codemirror_mode": {
    "name": "ipython",
    "version": 3
   },
   "file_extension": ".py",
   "mimetype": "text/x-python",
   "name": "python",
   "nbconvert_exporter": "python",
   "pygments_lexer": "ipython3",
   "version": "3.7.3"
  }
 },
 "nbformat": 4,
 "nbformat_minor": 5
}

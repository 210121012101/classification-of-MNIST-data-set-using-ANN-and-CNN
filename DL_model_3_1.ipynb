{
 "cells": [
  {
   "cell_type": "code",
   "execution_count": 1,
   "id": "c7c6d2e5",
   "metadata": {},
   "outputs": [],
   "source": [
    "import numpy as np\n",
    "import matplotlib.pyplot as plt\n",
    "import pandas as pd\n",
    "import torch.nn as nn\n",
    "import torch.nn.functional as F\n",
    "from sklearn.model_selection import train_test_split\n",
    "from torch.utils.data import DataLoader\n",
    "from torchvision import datasets, transforms\n",
    "import torch"
   ]
  },
  {
   "cell_type": "code",
   "execution_count": 2,
   "id": "cdb42f6a",
   "metadata": {},
   "outputs": [
    {
     "name": "stdout",
     "output_type": "stream",
     "text": [
      "(2000, 28, 28, 1)\n",
      "(2000, 1)\n"
     ]
    }
   ],
   "source": [
    "import h5py\n",
    "Lab1_MNIST = h5py.File('MNISTdata.hdf5','r') # Loading the h5py file\n",
    "data_in=np.array(Lab1_MNIST['input']) #converting the file to numpy array (input data)\n",
    "data_out=np.array(Lab1_MNIST['output']) #converting the file to numpy array (output data)\n",
    "print(data_in.shape) \n",
    "print(data_out.shape)"
   ]
  },
  {
   "cell_type": "code",
   "execution_count": 3,
   "id": "7b915ce5",
   "metadata": {},
   "outputs": [
    {
     "name": "stdout",
     "output_type": "stream",
     "text": [
      "(1400, 28, 28, 1)\n",
      "(600, 28, 28, 1)\n",
      "(1400, 1)\n",
      "(600, 1)\n"
     ]
    }
   ],
   "source": [
    "# splitting the data into 70 % and 30% testing\n",
    "train_X,test_X, train_y, test_y = train_test_split(data_in,data_out,test_size=0.3,random_state=21)\n",
    "print(train_X.shape)\n",
    "print(test_X.shape)\n",
    "print(train_y.shape)\n",
    "print(test_y.shape)"
   ]
  },
  {
   "cell_type": "code",
   "execution_count": 4,
   "id": "e2cc3c3f",
   "metadata": {},
   "outputs": [
    {
     "name": "stdout",
     "output_type": "stream",
     "text": [
      "(1400, 784)\n",
      "(600, 784)\n",
      "(1400,)\n",
      "(600,)\n"
     ]
    }
   ],
   "source": [
    "#reshaping the input data as (2000,784) and output data as column of 2000\n",
    "X_train=train_X.reshape(-1,784)\n",
    "X_test=test_X.reshape(-1,784)\n",
    "y_train=train_y.reshape(1400)\n",
    "y_test=test_y.reshape(600)\n",
    "print(X_train.shape)\n",
    "print(X_test.shape)\n",
    "print(y_train.shape)\n",
    "print(y_test.shape)\n",
    "# coverting numpy array to tensor and datatype float(for input) and integer for output\n",
    "X_train=torch.FloatTensor(X_train)\n",
    "X_test=torch.FloatTensor(X_test)\n",
    "y_train=torch.LongTensor(y_train)\n",
    "y_test=torch.LongTensor(y_test)"
   ]
  },
  {
   "cell_type": "code",
   "execution_count": 5,
   "id": "dd6c4297",
   "metadata": {},
   "outputs": [],
   "source": [
    "#zipping the input data X and labels y together for test data and train data separately\n",
    "train_data= list(zip(X_train,y_train))\n",
    "test_data = list(zip(X_test,y_test))"
   ]
  },
  {
   "cell_type": "code",
   "execution_count": 6,
   "id": "4649b8e5",
   "metadata": {},
   "outputs": [
    {
     "name": "stdout",
     "output_type": "stream",
     "text": [
      "Batch shape: torch.Size([64, 784])\n"
     ]
    }
   ],
   "source": [
    "# Loading data in batches of 64 size\n",
    "trainloader = DataLoader(train_data, batch_size=64, shuffle=True)\n",
    "testloader = DataLoader(test_data,batch_size=64, shuffle=False)\n",
    "for images, labels in trainloader:\n",
    "    print('Batch shape:', images.size())\n",
    "    break"
   ]
  },
  {
   "cell_type": "code",
   "execution_count": 7,
   "id": "d1c4080d",
   "metadata": {},
   "outputs": [
    {
     "data": {
      "text/plain": [
       "Model_1(\n",
       "  (fc1): Linear(in_features=784, out_features=400, bias=True)\n",
       "  (fc2): Linear(in_features=400, out_features=200, bias=True)\n",
       "  (out): Linear(in_features=200, out_features=10, bias=True)\n",
       ")"
      ]
     },
     "execution_count": 7,
     "metadata": {},
     "output_type": "execute_result"
    }
   ],
   "source": [
    "# Creating a model class\n",
    "class Model_1(nn.Module):\n",
    "    def __init__(self,in_features=784,h1 = 400,h2=200, out_features=10):\n",
    "        super().__init__()\n",
    "        self.fc1 = nn.Linear(in_features,h1) # input layer\n",
    "        self.fc2 = nn.Linear(h1,h2)          # hidden layer of required number of units\n",
    "        self.out = nn.Linear(h2,out_features)\n",
    "    \n",
    "    # Using model in a given sequecnce one after the other\n",
    "    def forward(self,x):\n",
    "        x = torch.relu(self.fc1(x))\n",
    "        x = torch.relu(self.fc2(x))\n",
    "        x = self.out(x)\n",
    "        \n",
    "        return F.log_softmax(x,dim=1)\n",
    "torch.manual_seed(30)\n",
    "model_1 = Model_1()\n",
    "model_1"
   ]
  },
  {
   "cell_type": "code",
   "execution_count": 8,
   "id": "ebe22b7d",
   "metadata": {},
   "outputs": [
    {
     "name": "stdout",
     "output_type": "stream",
     "text": [
      "313600\n",
      "400\n",
      "80000\n",
      "200\n",
      "2000\n",
      "10\n"
     ]
    }
   ],
   "source": [
    "# Printing the number of parameters i the model\n",
    "for item in model_1.parameters():\n",
    "    print(item.numel()) "
   ]
  },
  {
   "cell_type": "code",
   "execution_count": 9,
   "id": "5950be89",
   "metadata": {},
   "outputs": [],
   "source": [
    "# Defining loss and optimizers as mentioned in the problem statement\n",
    "loss = nn.CrossEntropyLoss()\n",
    "optimizer = torch.optim.Adam(model_1.parameters(),lr=0.05,weight_decay=1e-3)"
   ]
  },
  {
   "cell_type": "code",
   "execution_count": 10,
   "id": "b9dbeee3",
   "metadata": {},
   "outputs": [
    {
     "name": "stdout",
     "output_type": "stream",
     "text": [
      " epoch: 1     train_loss: 2.345344066619873\n",
      " epoch: 1     test_loss: 2.300504446029663\n",
      " epoch: 2     train_loss: 2.287642002105713\n",
      " epoch: 2     test_loss: 2.329216480255127\n",
      " epoch: 3     train_loss: 2.3208978176116943\n",
      " epoch: 3     test_loss: 2.329742908477783\n",
      " epoch: 4     train_loss: 2.2973177433013916\n",
      " epoch: 4     test_loss: 2.3038864135742188\n",
      " epoch: 5     train_loss: 2.2828288078308105\n",
      " epoch: 5     test_loss: 2.322855234146118\n",
      " epoch: 6     train_loss: 2.3226101398468018\n",
      " epoch: 6     test_loss: 2.320556402206421\n",
      " epoch: 7     train_loss: 2.300306558609009\n",
      " epoch: 7     test_loss: 2.314809799194336\n",
      " epoch: 8     train_loss: 2.3124537467956543\n",
      " epoch: 8     test_loss: 2.3330845832824707\n",
      " epoch: 9     train_loss: 2.3109982013702393\n",
      " epoch: 9     test_loss: 2.304511070251465\n",
      " epoch: 10     train_loss: 2.2944562435150146\n",
      " epoch: 10     test_loss: 2.3380792140960693\n",
      "total time: 4.096637964248657\n"
     ]
    }
   ],
   "source": [
    "# Training the model with 100 epochs\n",
    "import time\n",
    "start_time = time.time()\n",
    "epoch=10\n",
    "trn_loss1=[]\n",
    "tst_loss1=[]\n",
    "tst_corr = []\n",
    "trn_corr = []\n",
    "for i in range(epoch):\n",
    "    num_tst_corr = 0\n",
    "    num_trn_corr = 0\n",
    "    for b,(X_tr,y_tr) in enumerate(trainloader):\n",
    "        b+=1\n",
    "        y_predicted = model_1(X_tr)\n",
    "        trnl_1=loss(y_predicted,y_tr)\n",
    "        \n",
    "        predicted = torch.max(y_predicted.data, 1)[1]    # this calculates the index of maximum value in one hot vector\n",
    "        batch_corr = (predicted == y_tr).sum()   # this compares target value with model prediction\n",
    "        num_trn_corr += batch_corr                  # summing up number of correct predictions by the model\n",
    "        \n",
    "        optimizer.zero_grad()\n",
    "        trnl_1.backward()\n",
    "        optimizer.step()\n",
    "    \n",
    "    trn_loss1.append(trnl_1.item())    \n",
    "    if i%1==0:\n",
    "        print(f' epoch: {i+1}     train_loss: {trnl_1.item()}')\n",
    "    \n",
    "    trn_corr.append(num_trn_corr)\n",
    "    \n",
    "    # Cecking the model for the test data (this part is not the par tof backward computation so without gradient)\n",
    "    with torch.no_grad():\n",
    "        for c,(X_tst,y_tst) in enumerate(testloader):\n",
    "            c+=1\n",
    "            y_val = model_1(X_tst)\n",
    "            tstl_1=loss(y_val,y_tst)\n",
    "            \n",
    "            pred = torch.max(y_val.data, 1)[1]\n",
    "            batch_corr_test = (pred == y_tst).sum()\n",
    "            num_tst_corr += batch_corr_test\n",
    "            \n",
    "        tst_loss1.append(tstl_1.item())\n",
    "        if i%1==0:\n",
    "            print(f' epoch: {i+1}     test_loss: {tstl_1.item()}')\n",
    "    tst_corr.append(num_tst_corr)\n",
    "    \n",
    "end_time = time.time()\n",
    "total_time = end_time - start_time\n",
    "print(f'total time: {total_time}')"
   ]
  },
  {
   "cell_type": "code",
   "execution_count": 11,
   "id": "33b3bcce",
   "metadata": {},
   "outputs": [
    {
     "data": {
      "text/plain": [
       "<matplotlib.legend.Legend at 0x2993cd487f0>"
      ]
     },
     "execution_count": 11,
     "metadata": {},
     "output_type": "execute_result"
    },
    {
     "data": {
      "image/png": "[encoded data removed]",
      "text/plain": [
       "<Figure size 432x288 with 1 Axes>"
      ]
     },
     "metadata": {
      "needs_background": "light"
     },
     "output_type": "display_data"
    }
   ],
   "source": [
    "plt.plot(range(epoch),trn_loss1,label='trn_loss1')\n",
    "plt.plot(range(epoch),tst_loss1,label='tst_loss1')\n",
    "plt.xlabel('epochs')\n",
    "plt.ylabel('loss')\n",
    "plt.title(\"EPochs vs Loss\")\n",
    "plt.legend()"
   ]
  },
  {
   "cell_type": "code",
   "execution_count": 12,
   "id": "2f1d3923",
   "metadata": {},
   "outputs": [
    {
     "name": "stdout",
     "output_type": "stream",
     "text": [
      "[11.21, 13.0, 12.07, 9.57, 11.93, 10.71, 10.64, 10.57, 11.43, 10.5]\n"
     ]
    }
   ],
   "source": [
    "# Accuracy of 1400 training data over each epoch in percentage\n",
    "l_trn_accurate=[]\n",
    "for i in trn_corr:\n",
    "    l_trn_accurate.append(float(f'{i.item()/14:.2f}'))\n",
    "print(l_trn_accurate)"
   ]
  },
  {
   "cell_type": "code",
   "execution_count": 13,
   "id": "d6b4a41b",
   "metadata": {},
   "outputs": [
    {
     "name": "stdout",
     "output_type": "stream",
     "text": [
      "[9.17, 10.33, 8.67, 8.67, 11.5, 10.33, 10.33, 8.67, 10.33, 8.5]\n"
     ]
    }
   ],
   "source": [
    "# Number of correct predictions out of 600 test data over each epoch\n",
    "l_tst_accurate=[]\n",
    "for i in tst_corr:\n",
    "    l_tst_accurate.append(float(f'{i.item()/6:.2f}'))\n",
    "print(l_tst_accurate)"
   ]
  },
  {
   "cell_type": "code",
   "execution_count": 14,
   "id": "deb11917",
   "metadata": {},
   "outputs": [
    {
     "data": {
      "text/plain": [
       "<matplotlib.legend.Legend at 0x2993cdf8e10>"
      ]
     },
     "execution_count": 14,
     "metadata": {},
     "output_type": "execute_result"
    },
    {
     "data": {
      "image/png": "[encoded data removed]",
      "text/plain": [
       "<Figure size 432x288 with 1 Axes>"
      ]
     },
     "metadata": {
      "needs_background": "light"
     },
     "output_type": "display_data"
    }
   ],
   "source": [
    "# Comparing the training accuracy and test accuracy\n",
    "plt.plot(range(epoch),(l_trn_accurate),label='training accuracy')\n",
    "plt.plot(range(epoch),(l_tst_accurate),label='test accuracy')\n",
    "plt.xlabel('epochs')\n",
    "plt.ylabel('Accuracy')\n",
    "plt.title(\"EPochs vs Accuracy\")\n",
    "plt.legend()"
   ]
  },
  {
   "cell_type": "code",
   "execution_count": null,
   "id": "6ae865ca",
   "metadata": {},
   "outputs": [],
   "source": []
  }
 ],
 "metadata": {
  "kernelspec": {
   "display_name": "Python 3 (ipykernel)",
   "language": "python",
   "name": "python3"
  },
  "language_info": {
   "codemirror_mode": {
    "name": "ipython",
    "version": 3
   },
   "file_extension": ".py",
   "mimetype": "text/x-python",
   "name": "python",
   "nbconvert_exporter": "python",
   "pygments_lexer": "ipython3",
   "version": "3.7.3"
  }
 },
 "nbformat": 4,
 "nbformat_minor": 5
}

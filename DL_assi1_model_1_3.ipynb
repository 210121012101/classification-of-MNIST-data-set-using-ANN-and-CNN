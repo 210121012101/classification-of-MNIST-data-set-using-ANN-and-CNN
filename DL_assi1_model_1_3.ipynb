{
 "cells": [
  {
   "cell_type": "code",
   "execution_count": 1,
   "id": "b5e07ec0",
   "metadata": {},
   "outputs": [],
   "source": [
    "import numpy as np\n",
    "import matplotlib.pyplot as plt\n",
    "import torch.nn as nn\n",
    "import torch.nn.functional as F\n",
    "from sklearn.model_selection import train_test_split\n",
    "from torch.utils.data import DataLoader\n",
    "import torch"
   ]
  },
  {
   "cell_type": "code",
   "execution_count": 2,
   "id": "6b82b108",
   "metadata": {},
   "outputs": [
    {
     "name": "stdout",
     "output_type": "stream",
     "text": [
      "(2000, 28, 28, 1)\n",
      "(2000, 1)\n"
     ]
    }
   ],
   "source": [
    "import h5py\n",
    "Lab1_MNIST = h5py.File('MNISTdata.hdf5','r') # Loading the h5py file\n",
    "data_in=np.array(Lab1_MNIST['input'])        #converting the file to numpy array (input data)\n",
    "data_out=np.array(Lab1_MNIST['output'])      #converting the file to numpy array (output data)\n",
    "print(data_in.shape)\n",
    "print(data_out.shape)"
   ]
  },
  {
   "cell_type": "code",
   "execution_count": 3,
   "id": "67d9d39c",
   "metadata": {},
   "outputs": [
    {
     "name": "stdout",
     "output_type": "stream",
     "text": [
      "(1400, 28, 28, 1)\n",
      "(600, 28, 28, 1)\n",
      "(1400, 1)\n",
      "(600, 1)\n"
     ]
    }
   ],
   "source": [
    "# splitting the data into 70 % and 30% testing\n",
    "train_X,test_X, train_y, test_y = train_test_split(data_in,data_out,test_size=0.3,random_state=21)\n",
    "print(train_X.shape)\n",
    "print(test_X.shape)\n",
    "print(train_y.shape)\n",
    "print(test_y.shape)"
   ]
  },
  {
   "cell_type": "code",
   "execution_count": 4,
   "id": "303b557f",
   "metadata": {},
   "outputs": [
    {
     "name": "stdout",
     "output_type": "stream",
     "text": [
      "(1400, 784)\n",
      "(600, 784)\n",
      "(1400,)\n",
      "(600,)\n"
     ]
    }
   ],
   "source": [
    "#reshaping the input data as (2000,784) and output data as column of 2000\n",
    "X_train=train_X.reshape(-1,784)\n",
    "X_test=test_X.reshape(-1,784)\n",
    "y_train=train_y.reshape(1400)\n",
    "y_test=test_y.reshape(600)\n",
    "print(X_train.shape)\n",
    "print(X_test.shape)\n",
    "print(y_train.shape)\n",
    "print(y_test.shape)"
   ]
  },
  {
   "cell_type": "code",
   "execution_count": 5,
   "id": "b71cbeae",
   "metadata": {},
   "outputs": [
    {
     "name": "stdout",
     "output_type": "stream",
     "text": [
      "torch.Size([1400, 784])\n",
      "torch.Size([600, 784])\n",
      "torch.Size([1400])\n",
      "torch.Size([600])\n"
     ]
    }
   ],
   "source": [
    "# coverting numpy array to tensor and datatype float(for input) and integer for output\n",
    "X_train=torch.FloatTensor(X_train)\n",
    "X_test=torch.FloatTensor(X_test)\n",
    "y_train=torch.LongTensor(y_train)\n",
    "y_test=torch.LongTensor(y_test)\n",
    "print(X_train.shape)\n",
    "print(X_test.shape)\n",
    "print(y_train.shape)\n",
    "print(y_test.shape)"
   ]
  },
  {
   "cell_type": "code",
   "execution_count": 6,
   "id": "9d02f380",
   "metadata": {},
   "outputs": [],
   "source": [
    "#zipping the input data X and labels y together for test data and train data separately\n",
    "train_data= list(zip(X_train,y_train))\n",
    "test_data = list(zip(X_test,y_test))"
   ]
  },
  {
   "cell_type": "code",
   "execution_count": 7,
   "id": "a56d11d3",
   "metadata": {},
   "outputs": [
    {
     "name": "stdout",
     "output_type": "stream",
     "text": [
      "Batch shape: torch.Size([64, 784])\n",
      "[tensor([[0., 0., 0.,  ..., 0., 0., 0.],\n",
      "        [0., 0., 0.,  ..., 0., 0., 0.],\n",
      "        [0., 0., 0.,  ..., 0., 0., 0.],\n",
      "        ...,\n",
      "        [0., 0., 0.,  ..., 0., 0., 0.],\n",
      "        [0., 0., 0.,  ..., 0., 0., 0.],\n",
      "        [0., 0., 0.,  ..., 0., 0., 0.]]), tensor([0, 4, 5, 3, 2, 6, 3, 2, 0, 5, 4, 5, 1, 0, 6, 7, 6, 7, 1, 6, 0, 0, 9, 8,\n",
      "        8, 7, 8, 1, 4, 7, 8, 4, 4, 9, 9, 2, 0, 9, 8, 6, 9, 1, 2, 9, 2, 2, 1, 1,\n",
      "        2, 1, 2, 4, 4, 9, 7, 5, 6, 3, 6, 2, 8, 7, 3, 7])]\n",
      "[tensor([[0., 0., 0.,  ..., 0., 0., 0.],\n",
      "        [0., 0., 0.,  ..., 0., 0., 0.],\n",
      "        [0., 0., 0.,  ..., 0., 0., 0.],\n",
      "        ...,\n",
      "        [0., 0., 0.,  ..., 0., 0., 0.],\n",
      "        [0., 0., 0.,  ..., 0., 0., 0.],\n",
      "        [0., 0., 0.,  ..., 0., 0., 0.]]), tensor([8, 1, 6, 5, 3, 3, 6, 1, 9, 2, 4, 5, 9, 4, 0, 0, 1, 4, 9, 7, 1, 1, 1, 3,\n",
      "        2, 5, 8, 7, 1, 3, 2, 7, 2, 6, 9, 4, 6, 1, 4, 8, 8, 6, 2, 8, 2, 2, 8, 3,\n",
      "        8, 9, 5, 9, 4, 9, 4, 5, 9, 0, 7, 6, 2, 3, 1, 7])]\n",
      "[tensor([[0., 0., 0.,  ..., 0., 0., 0.],\n",
      "        [0., 0., 0.,  ..., 0., 0., 0.],\n",
      "        [0., 0., 0.,  ..., 0., 0., 0.],\n",
      "        ...,\n",
      "        [0., 0., 0.,  ..., 0., 0., 0.],\n",
      "        [0., 0., 0.,  ..., 0., 0., 0.],\n",
      "        [0., 0., 0.,  ..., 0., 0., 0.]]), tensor([3, 7, 7, 8, 6, 1, 5, 0, 0, 8, 1, 2, 9, 1, 9, 6, 6, 9, 9, 2, 8, 1, 6, 3,\n",
      "        3, 6, 4, 8, 3, 6, 2, 9, 6, 2, 6, 5, 9, 7, 5, 7, 6, 6, 9, 1, 4, 2, 8, 9,\n",
      "        8, 2, 7, 4, 3, 8, 3, 4, 2, 7, 8, 7, 7, 8, 7, 5])]\n",
      "[tensor([[0., 0., 0.,  ..., 0., 0., 0.],\n",
      "        [0., 0., 0.,  ..., 0., 0., 0.],\n",
      "        [0., 0., 0.,  ..., 0., 0., 0.],\n",
      "        ...,\n",
      "        [0., 0., 0.,  ..., 0., 0., 0.],\n",
      "        [0., 0., 0.,  ..., 0., 0., 0.],\n",
      "        [0., 0., 0.,  ..., 0., 0., 0.]]), tensor([5, 6, 0, 8, 1, 0, 2, 2, 9, 7, 1, 5, 4, 5, 3, 2, 9, 3, 7, 5, 7, 2, 0, 9,\n",
      "        6, 7, 2, 6, 7, 0, 9, 7, 3, 6, 2, 8, 7, 5, 4, 7, 1, 7, 9, 6, 5, 7, 2, 8,\n",
      "        6, 3, 3, 2, 6, 8, 4, 0, 0, 2, 4, 6, 7, 4, 9, 3])]\n",
      "[tensor([[0., 0., 0.,  ..., 0., 0., 0.],\n",
      "        [0., 0., 0.,  ..., 0., 0., 0.],\n",
      "        [0., 0., 0.,  ..., 0., 0., 0.],\n",
      "        ...,\n",
      "        [0., 0., 0.,  ..., 0., 0., 0.],\n",
      "        [0., 0., 0.,  ..., 0., 0., 0.],\n",
      "        [0., 0., 0.,  ..., 0., 0., 0.]]), tensor([9, 1, 7, 8, 2, 1, 1, 9, 3, 0, 4, 6, 6, 9, 0, 6, 5, 0, 9, 0, 6, 1, 7, 4,\n",
      "        0, 6, 5, 8, 5, 8, 6, 4, 1, 6, 3, 0, 4, 4, 8, 6, 5, 5, 2, 1, 2, 2, 6, 5,\n",
      "        9, 9, 4, 4, 5, 1, 2, 3, 1, 9, 9, 2, 1, 6, 1, 7])]\n",
      "[tensor([[0., 0., 0.,  ..., 0., 0., 0.],\n",
      "        [0., 0., 0.,  ..., 0., 0., 0.],\n",
      "        [0., 0., 0.,  ..., 0., 0., 0.],\n",
      "        ...,\n",
      "        [0., 0., 0.,  ..., 0., 0., 0.],\n",
      "        [0., 0., 0.,  ..., 0., 0., 0.],\n",
      "        [0., 0., 0.,  ..., 0., 0., 0.]]), tensor([1, 4, 9, 0, 4, 5, 2, 8, 3, 7, 0, 7, 5, 4, 3, 3, 2, 4, 2, 2, 0, 5, 0, 7,\n",
      "        1, 4, 0, 7, 0, 4, 4, 9, 5, 5, 9, 3, 6, 9, 3, 7, 1, 6, 4, 0, 8, 7, 0, 8,\n",
      "        2, 7, 2, 9, 9, 5, 2, 2, 9, 7, 1, 3, 7, 9, 4, 5])]\n",
      "[tensor([[0., 0., 0.,  ..., 0., 0., 0.],\n",
      "        [0., 0., 0.,  ..., 0., 0., 0.],\n",
      "        [0., 0., 0.,  ..., 0., 0., 0.],\n",
      "        ...,\n",
      "        [0., 0., 0.,  ..., 0., 0., 0.],\n",
      "        [0., 0., 0.,  ..., 0., 0., 0.],\n",
      "        [0., 0., 0.,  ..., 0., 0., 0.]]), tensor([6, 9, 8, 9, 8, 4, 6, 0, 4, 3, 9, 3, 7, 0, 3, 0, 3, 0, 9, 6, 9, 0, 9, 7,\n",
      "        4, 4, 3, 6, 3, 8, 7, 1, 2, 5, 9, 5, 3, 6, 9, 5, 3, 6, 3, 1, 1, 6, 8, 9,\n",
      "        1, 0, 1, 1, 9, 2, 8, 1, 1, 1, 3, 7, 9, 0, 6, 7])]\n",
      "[tensor([[0., 0., 0.,  ..., 0., 0., 0.],\n",
      "        [0., 0., 0.,  ..., 0., 0., 0.],\n",
      "        [0., 0., 0.,  ..., 0., 0., 0.],\n",
      "        ...,\n",
      "        [0., 0., 0.,  ..., 0., 0., 0.],\n",
      "        [0., 0., 0.,  ..., 0., 0., 0.],\n",
      "        [0., 0., 0.,  ..., 0., 0., 0.]]), tensor([7, 4, 4, 7, 0, 8, 7, 8, 6, 2, 4, 0, 8, 1, 8, 0, 7, 4, 4, 8, 0, 3, 9, 7,\n",
      "        4, 9, 6, 9, 8, 6, 7, 9, 6, 1, 1, 5, 6, 3, 6, 6, 3, 8, 5, 6, 7, 3, 3, 7,\n",
      "        5, 4, 1, 7, 4, 1, 8, 9, 8, 0, 3, 0, 4, 9, 6, 0])]\n",
      "[tensor([[0., 0., 0.,  ..., 0., 0., 0.],\n",
      "        [0., 0., 0.,  ..., 0., 0., 0.],\n",
      "        [0., 0., 0.,  ..., 0., 0., 0.],\n",
      "        ...,\n",
      "        [0., 0., 0.,  ..., 0., 0., 0.],\n",
      "        [0., 0., 0.,  ..., 0., 0., 0.],\n",
      "        [0., 0., 0.,  ..., 0., 0., 0.]]), tensor([3, 1, 7, 9, 5, 8, 1, 0, 0, 9, 9, 9, 2, 5, 9, 8, 5, 4, 0, 2, 8, 2, 2, 5,\n",
      "        0, 8, 7, 9, 2, 3, 4, 1, 8, 6, 2, 9, 7, 4, 7, 7, 3, 2, 6, 7, 0, 2, 6, 4,\n",
      "        7, 3, 2, 3, 9, 5, 8, 0, 1, 1, 5, 0, 2, 4, 5, 9])]\n",
      "[tensor([[0., 0., 0.,  ..., 0., 0., 0.],\n",
      "        [0., 0., 0.,  ..., 0., 0., 0.],\n",
      "        [0., 0., 0.,  ..., 0., 0., 0.],\n",
      "        ...,\n",
      "        [0., 0., 0.,  ..., 0., 0., 0.],\n",
      "        [0., 0., 0.,  ..., 0., 0., 0.],\n",
      "        [0., 0., 0.,  ..., 0., 0., 0.]]), tensor([3, 9, 1, 5, 3, 1, 3, 1, 9, 5, 1, 9, 6, 9, 7, 9, 9, 0, 9, 2, 5, 2, 7, 3,\n",
      "        1, 9, 5, 6, 3, 0, 6, 6, 4, 0, 8, 4, 6, 6, 3, 8, 1, 6, 0, 8, 7, 9, 9, 1,\n",
      "        2, 6, 8, 3, 1, 1, 8, 5, 0, 4, 7, 9, 0, 5, 9, 1])]\n",
      "[tensor([[0., 0., 0.,  ..., 0., 0., 0.],\n",
      "        [0., 0., 0.,  ..., 0., 0., 0.],\n",
      "        [0., 0., 0.,  ..., 0., 0., 0.],\n",
      "        ...,\n",
      "        [0., 0., 0.,  ..., 0., 0., 0.],\n",
      "        [0., 0., 0.,  ..., 0., 0., 0.],\n",
      "        [0., 0., 0.,  ..., 0., 0., 0.]]), tensor([8, 1, 7, 5, 6, 7, 4, 7, 7, 7, 2, 6, 0, 0, 8, 5, 3, 6, 4, 5, 1, 8, 7, 5,\n",
      "        4, 4, 4, 3, 7, 8, 4, 7, 3, 6, 1, 7, 0, 6, 4, 1, 1, 1, 0, 9, 7, 4, 8, 3,\n",
      "        8, 1, 8, 6, 1, 2, 8, 9, 7, 4, 2, 2, 6, 3, 4, 7])]\n",
      "[tensor([[0., 0., 0.,  ..., 0., 0., 0.],\n",
      "        [0., 0., 0.,  ..., 0., 0., 0.],\n",
      "        [0., 0., 0.,  ..., 0., 0., 0.],\n",
      "        ...,\n",
      "        [0., 0., 0.,  ..., 0., 0., 0.],\n",
      "        [0., 0., 0.,  ..., 0., 0., 0.],\n",
      "        [0., 0., 0.,  ..., 0., 0., 0.]]), tensor([4, 6, 0, 1, 0, 4, 2, 8, 6, 6, 9, 9, 7, 0, 5, 6, 6, 5, 0, 6, 0, 9, 0, 6,\n",
      "        0, 2, 9, 9, 6, 1, 7, 2, 4, 6, 8, 9, 2, 5, 3, 2, 1, 0, 9, 5, 2, 1, 8, 3,\n",
      "        1, 2, 8, 4, 7, 3, 0, 8, 4, 4, 9, 5, 7, 1, 0, 6])]\n",
      "[tensor([[0., 0., 0.,  ..., 0., 0., 0.],\n",
      "        [0., 0., 0.,  ..., 0., 0., 0.],\n",
      "        [0., 0., 0.,  ..., 0., 0., 0.],\n",
      "        ...,\n",
      "        [0., 0., 0.,  ..., 0., 0., 0.],\n",
      "        [0., 0., 0.,  ..., 0., 0., 0.],\n",
      "        [0., 0., 0.,  ..., 0., 0., 0.]]), tensor([6, 5, 6, 3, 4, 3, 2, 0, 5, 8, 1, 3, 4, 9, 2, 4, 5, 9, 7, 1, 5, 8, 3, 4,\n",
      "        7, 4, 1, 0, 4, 1, 3, 4, 9, 9, 6, 8, 3, 3, 7, 0, 8, 1, 4, 6, 8, 2, 2, 1,\n",
      "        6, 9, 0, 7, 3, 3, 1, 6, 0, 6, 2, 8, 1, 5, 2, 6])]\n",
      "[tensor([[0., 0., 0.,  ..., 0., 0., 0.],\n",
      "        [0., 0., 0.,  ..., 0., 0., 0.],\n",
      "        [0., 0., 0.,  ..., 0., 0., 0.],\n",
      "        ...,\n",
      "        [0., 0., 0.,  ..., 0., 0., 0.],\n",
      "        [0., 0., 0.,  ..., 0., 0., 0.],\n",
      "        [0., 0., 0.,  ..., 0., 0., 0.]]), tensor([6, 4, 7, 2, 9, 4, 6, 4, 1, 7, 3, 9, 5, 2, 0, 4, 7, 9, 4, 0, 8, 6, 4, 7,\n",
      "        6, 0, 2, 1, 5, 9, 6, 3, 7, 6, 9, 4, 1, 2, 5, 4, 1, 5, 6, 1, 7, 3, 4, 5,\n",
      "        5, 7, 2, 1, 9, 1, 4, 4, 6, 5, 0, 0, 8, 2, 0, 2])]\n",
      "[tensor([[0., 0., 0.,  ..., 0., 0., 0.],\n",
      "        [0., 0., 0.,  ..., 0., 0., 0.],\n",
      "        [0., 0., 0.,  ..., 0., 0., 0.],\n",
      "        ...,\n",
      "        [0., 0., 0.,  ..., 0., 0., 0.],\n",
      "        [0., 0., 0.,  ..., 0., 0., 0.],\n",
      "        [0., 0., 0.,  ..., 0., 0., 0.]]), tensor([6, 4, 4, 7, 9, 3, 3, 5, 9, 7, 1, 9, 9, 6, 5, 9, 1, 1, 5, 7, 0, 2, 2, 2,\n",
      "        2, 6, 6, 7, 9, 7, 0, 7, 3, 2, 8, 7, 4, 7, 9, 3, 7, 8, 1, 6, 5, 1, 5, 0,\n",
      "        5, 6, 2, 8, 8, 5, 0, 2, 8, 5, 1, 5, 0, 1, 0, 9])]\n",
      "[tensor([[0., 0., 0.,  ..., 0., 0., 0.],\n",
      "        [0., 0., 0.,  ..., 0., 0., 0.],\n",
      "        [0., 0., 0.,  ..., 0., 0., 0.],\n",
      "        ...,\n",
      "        [0., 0., 0.,  ..., 0., 0., 0.],\n",
      "        [0., 0., 0.,  ..., 0., 0., 0.],\n",
      "        [0., 0., 0.,  ..., 0., 0., 0.]]), tensor([1, 0, 7, 0, 4, 7, 7, 0, 0, 0, 9, 4, 3, 6, 7, 6, 2, 9, 0, 2, 0, 7, 9, 2,\n",
      "        9, 1, 6, 7, 6, 5, 7, 1, 7, 4, 9, 1, 0, 4, 6, 6, 6, 5, 6, 3, 8, 9, 3, 5,\n",
      "        9, 6, 6, 6, 4, 5, 9, 6, 3, 6, 2, 9, 3, 2, 2, 9])]\n",
      "[tensor([[0., 0., 0.,  ..., 0., 0., 0.],\n",
      "        [0., 0., 0.,  ..., 0., 0., 0.],\n",
      "        [0., 0., 0.,  ..., 0., 0., 0.],\n",
      "        ...,\n",
      "        [0., 0., 0.,  ..., 0., 0., 0.],\n",
      "        [0., 0., 0.,  ..., 0., 0., 0.],\n",
      "        [0., 0., 0.,  ..., 0., 0., 0.]]), tensor([0, 3, 1, 1, 4, 7, 7, 8, 0, 9, 7, 8, 5, 8, 9, 2, 1, 8, 7, 1, 0, 0, 3, 4,\n",
      "        5, 2, 7, 0, 3, 6, 4, 3, 2, 4, 1, 4, 6, 2, 0, 1, 2, 4, 4, 0, 5, 2, 7, 6,\n",
      "        8, 5, 0, 1, 9, 4, 9, 4, 7, 7, 7, 8, 0, 5, 3, 4])]\n",
      "[tensor([[0., 0., 0.,  ..., 0., 0., 0.],\n",
      "        [0., 0., 0.,  ..., 0., 0., 0.],\n",
      "        [0., 0., 0.,  ..., 0., 0., 0.],\n",
      "        ...,\n",
      "        [0., 0., 0.,  ..., 0., 0., 0.],\n",
      "        [0., 0., 0.,  ..., 0., 0., 0.],\n",
      "        [0., 0., 0.,  ..., 0., 0., 0.]]), tensor([4, 3, 7, 1, 1, 3, 8, 9, 0, 2, 7, 8, 9, 9, 3, 2, 2, 9, 6, 9, 5, 4, 6, 8,\n",
      "        3, 0, 7, 2, 6, 6, 2, 9, 9, 1, 1, 3, 7, 3, 3, 9, 7, 4, 8, 7, 9, 0, 9, 3,\n",
      "        2, 2, 1, 7, 9, 8, 2, 6, 2, 6, 4, 2, 9, 5, 1, 1])]\n",
      "[tensor([[0., 0., 0.,  ..., 0., 0., 0.],\n",
      "        [0., 0., 0.,  ..., 0., 0., 0.],\n",
      "        [0., 0., 0.,  ..., 0., 0., 0.],\n",
      "        ...,\n",
      "        [0., 0., 0.,  ..., 0., 0., 0.],\n",
      "        [0., 0., 0.,  ..., 0., 0., 0.],\n",
      "        [0., 0., 0.,  ..., 0., 0., 0.]]), tensor([1, 5, 3, 5, 4, 8, 6, 9, 7, 4, 5, 2, 1, 3, 4, 7, 3, 8, 2, 6, 8, 2, 7, 0,\n",
      "        2, 1, 0, 9, 7, 1, 5, 5, 5, 7, 5, 7, 0, 1, 8, 4, 8, 5, 3, 8, 0, 7, 7, 4,\n",
      "        1, 9, 9, 7, 2, 0, 5, 2, 1, 1, 5, 0, 7, 5, 2, 2])]\n",
      "[tensor([[0., 0., 0.,  ..., 0., 0., 0.],\n",
      "        [0., 0., 0.,  ..., 0., 0., 0.],\n",
      "        [0., 0., 0.,  ..., 0., 0., 0.],\n",
      "        ...,\n",
      "        [0., 0., 0.,  ..., 0., 0., 0.],\n",
      "        [0., 0., 0.,  ..., 0., 0., 0.],\n",
      "        [0., 0., 0.,  ..., 0., 0., 0.]]), tensor([6, 5, 4, 3, 0, 0, 3, 7, 9, 2, 9, 3, 8, 4, 0, 0, 2, 9, 1, 1, 1, 1, 6, 8,\n",
      "        3, 4, 2, 7, 4, 4, 9, 5, 6, 5, 5, 1, 3, 7, 4, 9, 0, 7, 3, 7, 3, 7, 1, 5,\n",
      "        5, 9, 7, 8, 5, 4, 8, 4, 9, 2, 7, 4, 4, 7, 5, 0])]\n",
      "[tensor([[0., 0., 0.,  ..., 0., 0., 0.],\n",
      "        [0., 0., 0.,  ..., 0., 0., 0.],\n",
      "        [0., 0., 0.,  ..., 0., 0., 0.],\n",
      "        ...,\n",
      "        [0., 0., 0.,  ..., 0., 0., 0.],\n",
      "        [0., 0., 0.,  ..., 0., 0., 0.],\n",
      "        [0., 0., 0.,  ..., 0., 0., 0.]]), tensor([0, 7, 8, 1, 7, 6, 2, 1, 1, 9, 8, 9, 8, 7, 0, 7, 4, 4, 8, 0, 9, 5, 8, 6,\n",
      "        2, 7, 2, 0, 5, 2, 7, 4, 8, 7, 2, 5, 4, 7, 1, 4, 3, 6, 7, 4, 3, 6, 1, 5,\n",
      "        5, 3, 1, 7, 3, 7, 0, 9, 0, 4, 2, 7, 5, 6, 8, 2])]\n",
      "[tensor([[0., 0., 0.,  ..., 0., 0., 0.],\n",
      "        [0., 0., 0.,  ..., 0., 0., 0.],\n",
      "        [0., 0., 0.,  ..., 0., 0., 0.],\n",
      "        ...,\n",
      "        [0., 0., 0.,  ..., 0., 0., 0.],\n",
      "        [0., 0., 0.,  ..., 0., 0., 0.],\n",
      "        [0., 0., 0.,  ..., 0., 0., 0.]]), tensor([5, 6, 8, 1, 0, 7, 7, 3, 0, 9, 2, 4, 9, 6, 2, 1, 6, 4, 2, 2, 6, 9, 8, 9,\n",
      "        8, 9, 2, 9, 0, 7, 2, 6, 4, 1, 3, 5, 6, 4, 3, 6, 1, 5, 8, 3, 4, 8, 3, 4,\n",
      "        0, 2, 1, 2, 4, 3, 1, 8])]\n"
     ]
    }
   ],
   "source": [
    "# Loading data in batches of 64 size and checking it using for loop\n",
    "\n",
    "trainloader = DataLoader(train_data, batch_size=64, shuffle=True)\n",
    "testloader = DataLoader(test_data,batch_size=64, shuffle=False)\n",
    "for images, labels in trainloader:\n",
    "    print('Batch shape:', images.size())\n",
    "    break\n",
    "for i in trainloader:\n",
    "    print(i)"
   ]
  },
  {
   "cell_type": "code",
   "execution_count": 8,
   "id": "590150ae",
   "metadata": {},
   "outputs": [
    {
     "data": {
      "text/plain": [
       "Model_1(\n",
       "  (fc1): Linear(in_features=784, out_features=50, bias=True)\n",
       "  (out): Linear(in_features=50, out_features=10, bias=True)\n",
       ")"
      ]
     },
     "execution_count": 8,
     "metadata": {},
     "output_type": "execute_result"
    }
   ],
   "source": [
    "# Creating a model class\n",
    "class Model_1(nn.Module):\n",
    "    def __init__(self,in_features=784,h1 = 50, out_features=10):\n",
    "        super().__init__()\n",
    "        self.fc1 = nn.Linear(in_features,h1)  # input layer to hidden layer\n",
    "        self.out = nn.Linear(h1,out_features) # hidden layer to output layer \n",
    "    def forward(self,x):\n",
    "        x = torch.sigmoid(self.fc1(x))\n",
    "        x = self.out(x)\n",
    "        return F.log_softmax(x,dim=1)\n",
    "torch.manual_seed(4)\n",
    "model_1 = Model_1()\n",
    "model_1"
   ]
  },
  {
   "cell_type": "code",
   "execution_count": 9,
   "id": "33639c4f",
   "metadata": {},
   "outputs": [
    {
     "name": "stdout",
     "output_type": "stream",
     "text": [
      "39200\n",
      "50\n",
      "500\n",
      "10\n"
     ]
    }
   ],
   "source": [
    "# Showing number of parameters\n",
    "for item in model_1.parameters():\n",
    "    print(item.numel())"
   ]
  },
  {
   "cell_type": "code",
   "execution_count": 10,
   "id": "6189d679",
   "metadata": {},
   "outputs": [],
   "source": [
    "# Setting up loss function and optimizer function\n",
    "loss = nn.CrossEntropyLoss()\n",
    "optimizer = torch.optim.Adam(model_1.parameters(),lr=1e-4,weight_decay=1e-5)"
   ]
  },
  {
   "cell_type": "code",
   "execution_count": 11,
   "id": "bbdf34dc",
   "metadata": {},
   "outputs": [
    {
     "name": "stdout",
     "output_type": "stream",
     "text": [
      " epoch: 1     train_loss: 2.381706714630127\n",
      " epoch: 1     test_loss: 2.2911956310272217\n",
      " epoch: 11     train_loss: 1.572196364402771\n",
      " epoch: 11     test_loss: 1.7136238813400269\n",
      " epoch: 21     train_loss: 1.2102547883987427\n",
      " epoch: 21     test_loss: 1.4824858903884888\n",
      " epoch: 31     train_loss: 1.180069088935852\n",
      " epoch: 31     test_loss: 1.3090816736221313\n",
      " epoch: 41     train_loss: 1.0072696208953857\n",
      " epoch: 41     test_loss: 1.1541996002197266\n",
      " epoch: 51     train_loss: 0.6899691820144653\n",
      " epoch: 51     test_loss: 1.0101276636123657\n",
      " epoch: 61     train_loss: 0.7686343789100647\n",
      " epoch: 61     test_loss: 0.9149834513664246\n",
      " epoch: 71     train_loss: 0.6369858980178833\n",
      " epoch: 71     test_loss: 0.86186283826828\n",
      " epoch: 81     train_loss: 0.5176295042037964\n",
      " epoch: 81     test_loss: 0.7907021641731262\n",
      " epoch: 91     train_loss: 0.4864971935749054\n",
      " epoch: 91     test_loss: 0.7671825289726257\n",
      "total time: 11.469417810440063\n"
     ]
    }
   ],
   "source": [
    "# Training the model with 100 epochs\n",
    "import time\n",
    "start_time = time.time()\n",
    "epoch=100\n",
    "trn_loss1=[]\n",
    "tst_loss1=[]\n",
    "tst_corr = []\n",
    "trn_corr = []\n",
    "for i in range(epoch):\n",
    "    num_tst_corr = 0\n",
    "    num_trn_corr = 0\n",
    "    for b,(X_tr,y_tr) in enumerate(trainloader):\n",
    "        b+=1\n",
    "        y_predicted = model_1(X_tr)\n",
    "        trnl_1=loss(y_predicted,y_tr)\n",
    "        \n",
    "        predicted = torch.max(y_predicted.data, 1)[1]    # this calculates the index of maximum value in one hot vector\n",
    "        batch_corr = (predicted == y_tr).sum()   # this compares target value with model prediction\n",
    "        num_trn_corr += batch_corr                  # summing up number of correct predictions by the model\n",
    "        \n",
    "        optimizer.zero_grad()\n",
    "        trnl_1.backward()\n",
    "        optimizer.step()\n",
    "    \n",
    "    trn_loss1.append(trnl_1.item())    \n",
    "    if i%10==0:\n",
    "        print(f' epoch: {i+1}     train_loss: {trnl_1.item()}')\n",
    "    \n",
    "    trn_corr.append(num_trn_corr)\n",
    "    \n",
    "    # Cecking the model for the test data (this part is not the par tof backward computation so without gradient)\n",
    "    with torch.no_grad():\n",
    "        for c,(X_tst,y_tst) in enumerate(testloader):\n",
    "            c+=1\n",
    "            y_val = model_1(X_tst)\n",
    "            tstl_1=loss(y_val,y_tst)\n",
    "            \n",
    "            pred = torch.max(y_val.data, 1)[1]\n",
    "            batch_corr_test = (pred == y_tst).sum()\n",
    "            num_tst_corr += batch_corr_test\n",
    "            \n",
    "        tst_loss1.append(tstl_1.item())\n",
    "        if i%10==0:\n",
    "            print(f' epoch: {i+1}     test_loss: {tstl_1.item()}')\n",
    "    tst_corr.append(num_tst_corr)\n",
    "    \n",
    "end_time = time.time()\n",
    "total_time = end_time - start_time\n",
    "print(f'total time: {total_time}')"
   ]
  },
  {
   "cell_type": "code",
   "execution_count": 12,
   "id": "4258586b",
   "metadata": {},
   "outputs": [
    {
     "data": {
      "text/plain": [
       "Text(0.5, 1.0, 'EPochs vs Loss')"
      ]
     },
     "execution_count": 12,
     "metadata": {},
     "output_type": "execute_result"
    },
    {
     "data": {
      "image/png": "[encoded data removed]",
      "text/plain": [
       "<Figure size 432x288 with 1 Axes>"
      ]
     },
     "metadata": {
      "needs_background": "light"
     },
     "output_type": "display_data"
    }
   ],
   "source": [
    "# PLotting the training loss vs epochs\n",
    "plt.plot(range(epoch),trn_loss1)\n",
    "plt.xlabel('epochs')\n",
    "plt.ylabel('loss')\n",
    "plt.title(\"EPochs vs Loss\")"
   ]
  },
  {
   "cell_type": "code",
   "execution_count": 13,
   "id": "953f3efe",
   "metadata": {},
   "outputs": [
    {
     "data": {
      "text/plain": [
       "Text(0.5, 1.0, 'EPochs vs Loss')"
      ]
     },
     "execution_count": 13,
     "metadata": {},
     "output_type": "execute_result"
    },
    {
     "data": {
      "image/png": "[encoded data removed]",
      "text/plain": [
       "<Figure size 432x288 with 1 Axes>"
      ]
     },
     "metadata": {
      "needs_background": "light"
     },
     "output_type": "display_data"
    }
   ],
   "source": [
    "# Plotting the test loss vs epochs\n",
    "plt.plot(range(epoch),tst_loss1)\n",
    "plt.xlabel('epochs')\n",
    "plt.ylabel('loss')\n",
    "plt.title(\"EPochs vs Loss\")"
   ]
  },
  {
   "cell_type": "code",
   "execution_count": 14,
   "id": "26155483",
   "metadata": {},
   "outputs": [
    {
     "data": {
      "text/plain": [
       "<matplotlib.legend.Legend at 0x2bafb917d30>"
      ]
     },
     "execution_count": 14,
     "metadata": {},
     "output_type": "execute_result"
    },
    {
     "data": {
      "image/png": "[encoded data removed]",
      "text/plain": [
       "<Figure size 432x288 with 1 Axes>"
      ]
     },
     "metadata": {
      "needs_background": "light"
     },
     "output_type": "display_data"
    }
   ],
   "source": [
    "# Comparing the training loss and test loss\n",
    "plt.plot(range(epoch),trn_loss1,label='train_loss')\n",
    "plt.plot(range(epoch),tst_loss1,label='test_loss')\n",
    "plt.xlabel('epochs')\n",
    "plt.ylabel('loss')\n",
    "plt.title(\"EPochs vs Loss\")\n",
    "plt.legend()"
   ]
  },
  {
   "cell_type": "code",
   "execution_count": 15,
   "id": "2057dfe4",
   "metadata": {},
   "outputs": [
    {
     "name": "stdout",
     "output_type": "stream",
     "text": [
      "[14.07, 25.79, 36.71, 45.86, 51.29, 54.36, 57.93, 59.43, 62.86, 63.93, 66.57, 69.43, 71.43, 73.0, 74.21, 75.93, 77.07, 77.64, 79.07, 80.43, 81.5, 82.93, 83.43, 83.86, 84.36, 85.21, 86.0, 86.71, 86.86, 87.64, 87.79, 88.36, 88.57, 88.93, 89.07, 89.57, 90.36, 90.5, 90.93, 91.29, 91.43, 91.64, 91.71, 92.0, 92.07, 92.36, 92.36, 92.79, 92.71, 92.79, 93.21, 93.21, 93.21, 93.21, 93.57, 93.36, 93.57, 93.86, 93.79, 93.93, 94.07, 94.21, 94.36, 94.36, 94.36, 94.57, 94.71, 94.64, 94.79, 95.0, 95.14, 95.0, 94.93, 95.07, 95.07, 95.14, 95.29, 95.43, 95.57, 95.5, 95.71, 95.64, 95.79, 95.86, 95.86, 95.86, 95.86, 95.86, 95.93, 95.93, 95.86, 96.0, 96.0, 95.93, 96.0, 96.14, 96.07, 96.29, 96.21, 96.07]\n"
     ]
    }
   ],
   "source": [
    "# Accuracy of 1400 training data over each epoch in percentage\n",
    "l_trn_accurate=[]\n",
    "for i in trn_corr:\n",
    "    l_trn_accurate.append(float(f'{i.item()/14:.2f}'))\n",
    "print(l_trn_accurate)"
   ]
  },
  {
   "cell_type": "code",
   "execution_count": 16,
   "id": "f8dfcf98",
   "metadata": {},
   "outputs": [
    {
     "name": "stdout",
     "output_type": "stream",
     "text": [
      "[21.83, 29.83, 39.5, 45.67, 49.5, 52.33, 54.33, 56.0, 58.33, 60.17, 61.5, 62.33, 63.0, 65.17, 66.17, 66.83, 67.67, 69.33, 69.5, 71.17, 72.33, 72.33, 73.17, 73.33, 73.5, 75.5, 75.5, 76.5, 76.5, 76.5, 77.67, 77.5, 78.5, 78.0, 78.33, 78.0, 79.0, 79.33, 78.67, 78.5, 78.67, 79.17, 79.0, 79.0, 79.33, 80.0, 79.5, 79.83, 80.67, 80.67, 80.17, 81.0, 80.17, 81.0, 81.17, 80.83, 80.67, 80.67, 81.33, 81.67, 81.67, 81.5, 81.33, 81.17, 81.83, 82.17, 81.83, 82.0, 82.0, 81.33, 82.0, 81.5, 81.17, 81.33, 81.17, 81.17, 80.83, 81.33, 81.5, 81.67, 81.83, 81.17, 81.67, 81.33, 81.67, 81.5, 81.33, 81.17, 81.17, 81.17, 81.17, 81.5, 82.17, 81.83, 81.67, 81.17, 81.83, 82.17, 82.5, 82.5]\n"
     ]
    }
   ],
   "source": [
    "# Number of correct predictions out of 600 test data over each epoch\n",
    "l_tst_accurate=[]\n",
    "for i in tst_corr:\n",
    "    l_tst_accurate.append(float(f'{i.item()/6:.2f}'))\n",
    "print(l_tst_accurate)"
   ]
  },
  {
   "cell_type": "code",
   "execution_count": 17,
   "id": "bad041fe",
   "metadata": {},
   "outputs": [
    {
     "data": {
      "text/plain": [
       "<matplotlib.legend.Legend at 0x2bafc973e48>"
      ]
     },
     "execution_count": 17,
     "metadata": {},
     "output_type": "execute_result"
    },
    {
     "data": {
      "image/png": "[encoded data removed]",
      "text/plain": [
       "<Figure size 432x288 with 1 Axes>"
      ]
     },
     "metadata": {
      "needs_background": "light"
     },
     "output_type": "display_data"
    }
   ],
   "source": [
    "# Comparing the training accuracy and test accuracy\n",
    "plt.plot(range(epoch),(l_trn_accurate),label='training accuracy')\n",
    "plt.plot(range(epoch),(l_tst_accurate),label='test accuracy')\n",
    "plt.xlabel('epochs')\n",
    "plt.ylabel('Accuracy')\n",
    "plt.title(\"EPochs vs Accuracy\")\n",
    "plt.legend()"
   ]
  },
  {
   "cell_type": "code",
   "execution_count": 18,
   "id": "38385238",
   "metadata": {},
   "outputs": [
    {
     "name": "stdout",
     "output_type": "stream",
     "text": [
      "1.) Predicted value: 4      Actual label:4     Correct prediction\n",
      "2.) Predicted value: 1      Actual label:1     Correct prediction\n",
      "3.) Predicted value: 3      Actual label:3     Correct prediction\n",
      "4.) Predicted value: 4      Actual label:4     Correct prediction\n",
      "5.) Predicted value: 6      Actual label:6     Correct prediction\n"
     ]
    }
   ],
   "source": [
    "for i,j in enumerate(range(5)):\n",
    "    model_1.eval()\n",
    "    with torch.no_grad():\n",
    "        new_pred = model_1(test_data[i][0].view(-1,784)).argmax()\n",
    "        if new_pred != test_data[i][1]:\n",
    "            print(f\"{i+1}.) Predicted value: {new_pred.item()}      Actual label:{test_data[i][1]}     Incorrect prediction\" )\n",
    "        else:\n",
    "            print(f\"{i+1}.) Predicted value: {new_pred.item()}      Actual label:{test_data[i][1]}     Correct prediction\" )"
   ]
  },
  {
   "cell_type": "code",
   "execution_count": null,
   "id": "31f2c84a",
   "metadata": {},
   "outputs": [],
   "source": []
  }
 ],
 "metadata": {
  "kernelspec": {
   "display_name": "Python 3 (ipykernel)",
   "language": "python",
   "name": "python3"
  },
  "language_info": {
   "codemirror_mode": {
    "name": "ipython",
    "version": 3
   },
   "file_extension": ".py",
   "mimetype": "text/x-python",
   "name": "python",
   "nbconvert_exporter": "python",
   "pygments_lexer": "ipython3",
   "version": "3.7.3"
  }
 },
 "nbformat": 4,
 "nbformat_minor": 5
}

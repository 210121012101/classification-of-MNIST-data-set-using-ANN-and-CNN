{
 "cells": [
  {
   "cell_type": "code",
   "execution_count": 1,
   "id": "079f95a1",
   "metadata": {},
   "outputs": [],
   "source": [
    "import numpy as np\n",
    "import matplotlib.pyplot as plt\n",
    "import pandas as pd\n",
    "import torch.nn as nn\n",
    "import torch.nn.functional as F\n",
    "from sklearn.model_selection import train_test_split\n",
    "from torch.utils.data import DataLoader\n",
    "from torchvision import datasets, transforms\n",
    "import torch"
   ]
  },
  {
   "cell_type": "code",
   "execution_count": 2,
   "id": "e4cbd925",
   "metadata": {},
   "outputs": [
    {
     "name": "stdout",
     "output_type": "stream",
     "text": [
      "(2000, 28, 28, 1)\n",
      "(2000, 1)\n"
     ]
    }
   ],
   "source": [
    "import h5py\n",
    "Lab1_MNIST = h5py.File('MNISTdata.hdf5','r')\n",
    "data_in=np.array(Lab1_MNIST['input'])\n",
    "data_out=np.array(Lab1_MNIST['output'])\n",
    "print(data_in.shape)\n",
    "print(data_out.shape)"
   ]
  },
  {
   "cell_type": "code",
   "execution_count": 3,
   "id": "4487db3c",
   "metadata": {},
   "outputs": [
    {
     "name": "stdout",
     "output_type": "stream",
     "text": [
      "(1400, 28, 28, 1)\n",
      "(600, 28, 28, 1)\n",
      "(1400, 1)\n",
      "(600, 1)\n"
     ]
    }
   ],
   "source": [
    "train_X,test_X, train_y, test_y = train_test_split(data_in,data_out,test_size=0.3,random_state=21)\n",
    "print(train_X.shape)\n",
    "print(test_X.shape)\n",
    "print(train_y.shape)\n",
    "print(test_y.shape)"
   ]
  },
  {
   "cell_type": "code",
   "execution_count": 4,
   "id": "3142ba8f",
   "metadata": {},
   "outputs": [
    {
     "name": "stdout",
     "output_type": "stream",
     "text": [
      "(1400, 784)\n",
      "(600, 784)\n",
      "(1400,)\n",
      "(600,)\n"
     ]
    }
   ],
   "source": [
    "X_train=train_X.reshape(-1,784)\n",
    "X_test=test_X.reshape(-1,784)\n",
    "y_train=train_y.reshape(1400)\n",
    "y_test=test_y.reshape(600)\n",
    "print(X_train.shape)\n",
    "print(X_test.shape)\n",
    "print(y_train.shape)\n",
    "print(y_test.shape)"
   ]
  },
  {
   "cell_type": "code",
   "execution_count": 5,
   "id": "cb6e49b1",
   "metadata": {},
   "outputs": [
    {
     "name": "stdout",
     "output_type": "stream",
     "text": [
      "torch.Size([1400, 784])\n",
      "torch.Size([600, 784])\n",
      "torch.Size([1400])\n",
      "torch.Size([600])\n"
     ]
    }
   ],
   "source": [
    "X_train=torch.FloatTensor(X_train)\n",
    "X_test=torch.FloatTensor(X_test)\n",
    "y_train=torch.LongTensor(y_train)\n",
    "y_test=torch.LongTensor(y_test)\n",
    "print(X_train.shape)\n",
    "print(X_test.shape)\n",
    "print(y_train.shape)\n",
    "print(y_test.shape)"
   ]
  },
  {
   "cell_type": "code",
   "execution_count": 6,
   "id": "61143d89",
   "metadata": {},
   "outputs": [],
   "source": [
    "train_data= list(zip(X_train,y_train))\n",
    "test_data = list(zip(X_test,y_test))"
   ]
  },
  {
   "cell_type": "code",
   "execution_count": 7,
   "id": "37af5308",
   "metadata": {},
   "outputs": [
    {
     "name": "stdout",
     "output_type": "stream",
     "text": [
      "Batch shape: torch.Size([64, 784])\n"
     ]
    }
   ],
   "source": [
    "trainloader = DataLoader(train_data, batch_size=64, shuffle=True)\n",
    "testloader = DataLoader(test_data,batch_size=64, shuffle=False)\n",
    "for images, labels in trainloader:\n",
    "    print('Batch shape:', images.size())\n",
    "    break"
   ]
  },
  {
   "cell_type": "code",
   "execution_count": 8,
   "id": "0296c9bd",
   "metadata": {},
   "outputs": [
    {
     "data": {
      "text/plain": [
       "Model_1(\n",
       "  (fc1): Linear(in_features=784, out_features=400, bias=True)\n",
       "  (fc2): Linear(in_features=400, out_features=200, bias=True)\n",
       "  (out): Linear(in_features=200, out_features=10, bias=True)\n",
       ")"
      ]
     },
     "execution_count": 8,
     "metadata": {},
     "output_type": "execute_result"
    }
   ],
   "source": [
    "# Added one more layer to the model and changed number of units to 400 and 200 respectively\n",
    "class Model_1(nn.Module):\n",
    "    def __init__(self,in_features=784,h1 = 400,h2=200, out_features=10):\n",
    "        super().__init__()\n",
    "        self.fc1 = nn.Linear(in_features,h1)\n",
    "        self.fc2 = nn.Linear(h1,h2)          \n",
    "        self.out = nn.Linear(h2,out_features)\n",
    "    def forward(self,x):\n",
    "        x = torch.sigmoid(self.fc1(x))\n",
    "        x = torch.sigmoid(self.fc2(x))\n",
    "        x = self.out(x)\n",
    "        \n",
    "        return F.log_softmax(x,dim=1)\n",
    "torch.manual_seed(4)\n",
    "model_1 = Model_1()\n",
    "model_1"
   ]
  },
  {
   "cell_type": "code",
   "execution_count": 9,
   "id": "beb88e70",
   "metadata": {},
   "outputs": [
    {
     "name": "stdout",
     "output_type": "stream",
     "text": [
      "313600\n",
      "400\n",
      "80000\n",
      "200\n",
      "2000\n",
      "10\n"
     ]
    }
   ],
   "source": [
    "for item in model_1.parameters():\n",
    "    print(item.numel())"
   ]
  },
  {
   "cell_type": "code",
   "execution_count": 10,
   "id": "017d7f38",
   "metadata": {},
   "outputs": [],
   "source": [
    "loss = nn.CrossEntropyLoss()\n",
    "optimizer = torch.optim.Adam(model_1.parameters(),lr=1e-4,weight_decay=1e-5)"
   ]
  },
  {
   "cell_type": "code",
   "execution_count": 11,
   "id": "024226df",
   "metadata": {},
   "outputs": [
    {
     "name": "stdout",
     "output_type": "stream",
     "text": [
      " epoch: 1     train_loss: 2.2178988456726074\n",
      " epoch: 1     test_loss: 2.2631728649139404\n",
      " epoch: 6     train_loss: 1.8353548049926758\n",
      " epoch: 6     test_loss: 1.8253518342971802\n",
      " epoch: 11     train_loss: 1.3775659799575806\n",
      " epoch: 11     test_loss: 1.4120556116104126\n",
      " epoch: 16     train_loss: 0.8935007452964783\n",
      " epoch: 16     test_loss: 1.0929230451583862\n",
      " epoch: 21     train_loss: 0.6849101781845093\n",
      " epoch: 21     test_loss: 0.8768575191497803\n",
      " epoch: 26     train_loss: 0.494602769613266\n",
      " epoch: 26     test_loss: 0.7207150459289551\n",
      " epoch: 31     train_loss: 0.29667776823043823\n",
      " epoch: 31     test_loss: 0.6172546744346619\n",
      " epoch: 36     train_loss: 0.3781040608882904\n",
      " epoch: 36     test_loss: 0.5379540920257568\n",
      " epoch: 41     train_loss: 0.25246304273605347\n",
      " epoch: 41     test_loss: 0.4909999668598175\n",
      " epoch: 46     train_loss: 0.22069235146045685\n",
      " epoch: 46     test_loss: 0.45402905344963074\n",
      "total time: 23.47954821586609\n"
     ]
    }
   ],
   "source": [
    "# Training the model with 100 epochs\n",
    "import time\n",
    "start_time = time.time()\n",
    "epoch=50\n",
    "trn_loss1=[]\n",
    "tst_loss1=[]\n",
    "tst_corr = []\n",
    "trn_corr = []\n",
    "for i in range(epoch):\n",
    "    num_tst_corr = 0\n",
    "    num_trn_corr = 0\n",
    "    for b,(X_tr,y_tr) in enumerate(trainloader):\n",
    "        b+=1\n",
    "        y_predicted = model_1(X_tr)\n",
    "        trnl_1=loss(y_predicted,y_tr)\n",
    "        \n",
    "        predicted = torch.max(y_predicted.data, 1)[1]    # this calculates the index of maximum value in one hot vector\n",
    "        batch_corr = (predicted == y_tr).sum()   # this compares target value with model prediction\n",
    "        num_trn_corr += batch_corr                  # summing up number of correct predictions by the model\n",
    "        \n",
    "        optimizer.zero_grad()\n",
    "        trnl_1.backward()\n",
    "        optimizer.step()\n",
    "    \n",
    "    trn_loss1.append(trnl_1.item())    \n",
    "    if i%5==0:\n",
    "        print(f' epoch: {i+1}     train_loss: {trnl_1.item()}')\n",
    "    \n",
    "    trn_corr.append(num_trn_corr)\n",
    "    \n",
    "    # Cecking the model for the test data (this part is not the par tof backward computation so without gradient)\n",
    "    with torch.no_grad():\n",
    "        for c,(X_tst,y_tst) in enumerate(testloader):\n",
    "            c+=1\n",
    "            y_val = model_1(X_tst)\n",
    "            tstl_1=loss(y_val,y_tst)\n",
    "            \n",
    "            pred = torch.max(y_val.data, 1)[1]\n",
    "            batch_corr_test = (pred == y_tst).sum()\n",
    "            num_tst_corr += batch_corr_test\n",
    "            \n",
    "        tst_loss1.append(tstl_1.item())\n",
    "        if i%5==0:\n",
    "            print(f' epoch: {i+1}     test_loss: {tstl_1.item()}')\n",
    "    tst_corr.append(num_tst_corr)\n",
    "    \n",
    "end_time = time.time()\n",
    "total_time = end_time - start_time\n",
    "print(f'total time: {total_time}')"
   ]
  },
  {
   "cell_type": "code",
   "execution_count": 12,
   "id": "c5a24cfd",
   "metadata": {},
   "outputs": [
    {
     "data": {
      "text/plain": [
       "<matplotlib.legend.Legend at 0x256ac4eda58>"
      ]
     },
     "execution_count": 12,
     "metadata": {},
     "output_type": "execute_result"
    },
    {
     "data": {
      "image/png": "[encoded data removed]",
      "text/plain": [
       "<Figure size 432x288 with 1 Axes>"
      ]
     },
     "metadata": {
      "needs_background": "light"
     },
     "output_type": "display_data"
    }
   ],
   "source": [
    "plt.plot(range(epoch),trn_loss1,label='trn_loss1')\n",
    "plt.plot(range(epoch),tst_loss1,label='tst_loss1')\n",
    "plt.xlabel('epochs')\n",
    "plt.ylabel('loss')\n",
    "plt.title(\"EPochs vs Loss\")\n",
    "plt.legend()"
   ]
  },
  {
   "cell_type": "code",
   "execution_count": 13,
   "id": "bccf1bf7",
   "metadata": {},
   "outputs": [
    {
     "name": "stdout",
     "output_type": "stream",
     "text": [
      "[11.5, 30.07, 55.07, 64.64, 70.0, 71.71, 76.14, 78.14, 80.57, 82.57, 84.57, 85.79, 86.93, 87.43, 89.0, 90.0, 90.21, 91.64, 92.0, 92.29, 93.21, 93.21, 93.79, 94.14, 94.21, 94.43, 94.79, 95.07, 95.14, 95.43, 95.79, 95.86, 96.0, 96.36, 96.43, 96.64, 96.71, 96.71, 96.79, 96.93, 97.07, 97.0, 97.21, 97.36, 97.36, 97.43, 97.43, 97.57, 97.57, 97.57]\n"
     ]
    }
   ],
   "source": [
    "# Accuracy of 1400 training data over each epoch in percentage\n",
    "l_trn_accurate=[]\n",
    "for i in trn_corr:\n",
    "    l_trn_accurate.append(float(f'{i.item()/14:.2f}'))\n",
    "print(l_trn_accurate)"
   ]
  },
  {
   "cell_type": "code",
   "execution_count": 14,
   "id": "206b52f8",
   "metadata": {},
   "outputs": [
    {
     "name": "stdout",
     "output_type": "stream",
     "text": [
      "[10.67, 44.5, 52.33, 61.17, 63.33, 69.67, 71.0, 73.5, 75.33, 77.0, 78.67, 79.17, 79.83, 82.0, 82.17, 82.5, 83.0, 84.17, 84.83, 84.83, 85.17, 85.17, 85.5, 85.83, 85.67, 85.83, 86.33, 86.0, 86.67, 87.0, 86.5, 87.17, 86.67, 87.5, 86.67, 87.33, 87.17, 87.33, 87.17, 87.0, 87.33, 87.17, 87.67, 87.67, 87.5, 87.17, 87.5, 87.17, 87.17, 87.17]\n"
     ]
    }
   ],
   "source": [
    "# Number of correct predictions out of 600 test data over each epoch\n",
    "l_tst_accurate=[]\n",
    "for i in tst_corr:\n",
    "    l_tst_accurate.append(float(f'{i.item()/6:.2f}'))\n",
    "print(l_tst_accurate)"
   ]
  },
  {
   "cell_type": "code",
   "execution_count": 15,
   "id": "151e8362",
   "metadata": {},
   "outputs": [
    {
     "data": {
      "text/plain": [
       "<matplotlib.legend.Legend at 0x256ac57fc50>"
      ]
     },
     "execution_count": 15,
     "metadata": {},
     "output_type": "execute_result"
    },
    {
     "data": {
      "image/png": "[encoded data removed]",
      "text/plain": [
       "<Figure size 432x288 with 1 Axes>"
      ]
     },
     "metadata": {
      "needs_background": "light"
     },
     "output_type": "display_data"
    }
   ],
   "source": [
    "# Comparing the training accuracy and test accuracy\n",
    "plt.plot(range(epoch),(l_trn_accurate),label='training accuracy')\n",
    "plt.plot(range(epoch),(l_tst_accurate),label='test accuracy')\n",
    "plt.xlabel('epochs')\n",
    "plt.ylabel('Accuracy')\n",
    "plt.title(\"EPochs vs Accuracy\")\n",
    "plt.legend()"
   ]
  },
  {
   "cell_type": "code",
   "execution_count": 16,
   "id": "6ee85074",
   "metadata": {},
   "outputs": [
    {
     "name": "stdout",
     "output_type": "stream",
     "text": [
      "1.) Predicted value: 4    Actual label:4     Correct prediction\n",
      "2.) Predicted value: 1    Actual label:1     Correct prediction\n",
      "3.) Predicted value: 3    Actual label:3     Correct prediction\n",
      "4.) Predicted value: 4    Actual label:4     Correct prediction\n",
      "5.) Predicted value: 6    Actual label:6     Correct prediction\n"
     ]
    }
   ],
   "source": [
    "for i,j in enumerate(range(5)):\n",
    "    model_1.eval()\n",
    "    with torch.no_grad():\n",
    "        new_pred = model_1(test_data[i][0].view(-1,784)).argmax()\n",
    "        if new_pred != test_data[i][1]:\n",
    "            print(f\"{i+1}.) Predicted value: {new_pred.item()}    Actual label:{test_data[i][1]}     Incorrect prediction\")\n",
    "        else:\n",
    "            print(f\"{i+1}.) Predicted value: {new_pred.item()}    Actual label:{test_data[i][1]}     Correct prediction\")"
   ]
  }
 ],
 "metadata": {
  "kernelspec": {
   "display_name": "Python 3 (ipykernel)",
   "language": "python",
   "name": "python3"
  },
  "language_info": {
   "codemirror_mode": {
    "name": "ipython",
    "version": 3
   },
   "file_extension": ".py",
   "mimetype": "text/x-python",
   "name": "python",
   "nbconvert_exporter": "python",
   "pygments_lexer": "ipython3",
   "version": "3.7.3"
  }
 },
 "nbformat": 4,
 "nbformat_minor": 5
}
